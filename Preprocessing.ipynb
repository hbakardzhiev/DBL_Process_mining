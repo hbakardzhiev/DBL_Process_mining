{
 "cells": [
  {
   "cell_type": "markdown",
   "metadata": {
    "id": "0_zL5ww6aO1w"
   },
   "source": [
    "Pre-processing\n",
    "* Visualization\n",
    "1. Unix time\n",
    "2. Encoding of categorical features\n",
    "3. Temporal ordering\n",
    "4. Aditional features:\n",
    "- Previous event\n",
    "- Next event\n",
    "- Day of the week\n",
    "- Time of day\n",
    "- Event duration\n",
    "5. Separate 80-20 \n",
    "- Visualization\n",
    "6. Get rid of overlap"
   ]
  },
  {
   "cell_type": "code",
   "execution_count": 1,
   "metadata": {
    "id": "UmdfWoy1vjN9"
   },
   "outputs": [
    {
     "ename": "ModuleNotFoundError",
     "evalue": "No module named 'pm4py'",
     "output_type": "error",
     "traceback": [
      "\u001b[1;31m---------------------------------------------------------------------------\u001b[0m",
      "\u001b[1;31mModuleNotFoundError\u001b[0m                       Traceback (most recent call last)",
      "\u001b[1;32m<ipython-input-1-471df2386237>\u001b[0m in \u001b[0;36m<module>\u001b[1;34m\u001b[0m\n\u001b[0;32m      6\u001b[0m \u001b[1;32mimport\u001b[0m \u001b[0mstatsmodels\u001b[0m\u001b[1;33m.\u001b[0m\u001b[0mapi\u001b[0m \u001b[1;32mas\u001b[0m \u001b[0msm\u001b[0m\u001b[1;33m\u001b[0m\u001b[1;33m\u001b[0m\u001b[0m\n\u001b[0;32m      7\u001b[0m \u001b[1;32mimport\u001b[0m \u001b[0mtime\u001b[0m\u001b[1;33m\u001b[0m\u001b[1;33m\u001b[0m\u001b[0m\n\u001b[1;32m----> 8\u001b[1;33m \u001b[1;32mimport\u001b[0m \u001b[0mpm4py\u001b[0m\u001b[1;33m\u001b[0m\u001b[1;33m\u001b[0m\u001b[0m\n\u001b[0m\u001b[0;32m      9\u001b[0m \u001b[1;32mfrom\u001b[0m \u001b[0mdatetime\u001b[0m \u001b[1;32mimport\u001b[0m \u001b[0mdatetime\u001b[0m\u001b[1;33m\u001b[0m\u001b[1;33m\u001b[0m\u001b[0m\n\u001b[0;32m     10\u001b[0m \u001b[1;32mfrom\u001b[0m \u001b[0mdatetime\u001b[0m \u001b[1;32mimport\u001b[0m \u001b[0mdate\u001b[0m\u001b[1;33m\u001b[0m\u001b[1;33m\u001b[0m\u001b[0m\n",
      "\u001b[1;31mModuleNotFoundError\u001b[0m: No module named 'pm4py'"
     ]
    }
   ],
   "source": [
    "import os\n",
    "import psutil\n",
    "import numpy as np  # import auxiliary library, typical idiom\n",
    "import pandas as pd  # import the Pandas library, typical idiom\n",
    "from pandas import read_csv\n",
    "import statsmodels.api as sm\n",
    "import time\n",
    "import pm4py\n",
    "from datetime import datetime\n",
    "from datetime import date\n",
    "from datetime import datetime\n",
    "from datetime import timedelta\n",
    "\n",
    "from numba import jit\n",
    "\n",
    "from sklearn.linear_model import LinearRegression  # for linear regression\n",
    "from sklearn import linear_model\n",
    "from sklearn.cluster import KMeans  # for clustering\n",
    "from sklearn.tree import DecisionTreeClassifier  # for decision tree mining\n",
    "from sklearn.metrics import mean_absolute_error, confusion_matrix, mean_squared_error, r2_score\n",
    "from sklearn.model_selection import train_test_split\n",
    "\n",
    "%matplotlib inline\n",
    "import seaborn as sns\n",
    "import matplotlib.pyplot as plt\n",
    "import statsmodels.formula.api as smf \n",
    "import statsmodels.api as sm\n",
    "from statsmodels.graphics.gofplots import ProbPlot\n",
    "from matplotlib import pyplot\n",
    "from sklearn.preprocessing import OrdinalEncoder, LabelEncoder"
   ]
  },
  {
   "cell_type": "code",
   "execution_count": null,
   "metadata": {
    "id": "qwzwRVG_vhqh"
   },
   "outputs": [],
   "source": [
    "file_export = 'export2018.csv'\n",
    "data = pd.read_csv(file_export)"
   ]
  },
  {
   "cell_type": "code",
   "execution_count": null,
   "metadata": {},
   "outputs": [],
   "source": [
    "data = data.sort_values(by=['case','startTime'])"
   ]
  },
  {
   "cell_type": "code",
   "execution_count": null,
   "metadata": {
    "id": "UkLk7PX7CvL4"
   },
   "outputs": [],
   "source": [
    "#Duration\n",
    "@jit(parallel = True)\n",
    "def calculator_nb(case, startTime):\n",
    "    res = np.empty(len(case), dtype=object)\n",
    "    idx = 0\n",
    "    for _ in case:\n",
    "        if (idx+1 >= len(case)):\n",
    "            break\n",
    "\n",
    "        if (case[idx + 1] == case[idx]):\n",
    "            res[idx] = startTime[idx + 1]\n",
    "        else:\n",
    "            res[idx] = startTime[idx]\n",
    "\n",
    "        idx+=1\n",
    "    return res\n",
    "\n",
    "data['completeTime'] = calculator_nb(data['case'].values, data['startTime'].values)\n",
    "data.at[317373, 'completeTime'] = data.at[317373, 'startTime']\n",
    "\n",
    "data['startTime'] =  pd.to_datetime(data['startTime'])\n",
    "data['completeTime'] =  pd.to_datetime(data['completeTime'])\n",
    "data['duration'] = data['completeTime'] - data['startTime']\n",
    "#to turn duration into seconds:\n",
    "duration = data['duration']\n",
    "duration = duration / np.timedelta64(1, 's')\n",
    "data['duration'] = duration"
   ]
  },
  {
   "cell_type": "code",
   "execution_count": null,
   "metadata": {},
   "outputs": [],
   "source": [
    "#Next event\n",
    "@jit(parallel = True)\n",
    "def calculator_nb(case, event):\n",
    "    res = np.empty(len(case), dtype=object)\n",
    "    idx = 0\n",
    "    for _ in case:\n",
    "        if (idx+1 >= len(case)):\n",
    "            break\n",
    "       \n",
    "        if (case[idx + 1] == case[idx]):\n",
    "            res[idx] = event[idx + 1]\n",
    "\n",
    "        idx+=1\n",
    "    return res\n",
    "\n",
    "data['next_event'] = calculator_nb(data['case'].values, data['event'].values)"
   ]
  },
  {
   "cell_type": "code",
   "execution_count": null,
   "metadata": {},
   "outputs": [],
   "source": [
    "#Previous event\n",
    "@jit(parallel = True)\n",
    "def calculator_nb(case, event):\n",
    "    res = np.empty(len(case), dtype=object)\n",
    "    idx = 0\n",
    "    for _ in case:\n",
    "        if (idx+1 >= len(case)):\n",
    "            break\n",
    "       \n",
    "        if (case[idx + 1] == case[idx]):\n",
    "            res[idx + 1] = event[idx]\n",
    "\n",
    "        idx+=1\n",
    "    return res\n",
    "\n",
    "data['prev_event'] = calculator_nb(data['case'].values, data['event'].values)"
   ]
  },
  {
   "cell_type": "code",
   "execution_count": null,
   "metadata": {},
   "outputs": [],
   "source": [
    "#Removing null values\n",
    "data['next_event'] = data['next_event'].fillna(value='None')\n",
    "data['prev_event'] = data['prev_event'].fillna(value='None')"
   ]
  },
  {
   "cell_type": "code",
   "execution_count": null,
   "metadata": {
    "id": "EK0yT10d4erc"
   },
   "outputs": [],
   "source": [
    "#unix time\n",
    "pd.set_option('display.float_format', lambda x: '%.3f' % x)\n",
    "\n",
    "data['startTime'] = pd.to_datetime(data['startTime'], dayfirst=True)\n",
    "unixTransform = lambda x: time.mktime(x.timetuple())\n",
    "data[\"UNIX_starttime\"] = data[\"startTime\"].apply(unixTransform).astype(int)\n",
    "\n",
    "data['completeTime'] = pd.to_datetime(data['completeTime'], dayfirst=True)\n",
    "unixTransform = lambda x: time.mktime(x.timetuple())\n",
    "data[\"UNIX_completeTime\"] = data[\"completeTime\"].apply(unixTransform).astype(int)\n",
    "\n",
    "#data['REG_DATE'] = pd.to_datetime(data['REG_DATE'], dayfirst=True)\n",
    "#unixTransform = lambda x: time.mktime(x.timetuple())\n",
    "#data[\"UNIX_REG_DATE\"] = data[\"REG_DATE\"].apply(unixTransform).astype(int)\n",
    "\n",
    "#print(data)"
   ]
  },
  {
   "cell_type": "code",
   "execution_count": null,
   "metadata": {},
   "outputs": [],
   "source": [
    "#Day of the week\n",
    "data['weekday'] = data['startTime'].dt.dayofweek"
   ]
  },
  {
   "cell_type": "code",
   "execution_count": null,
   "metadata": {
    "id": "78FN-5HNNi4f"
   },
   "outputs": [],
   "source": [
    "#encoding of categorical data\n",
    "ordinal_encoder = OrdinalEncoder()\n",
    "label_encoder = LabelEncoder()\n",
    "data['enc_event'] = ordinal_encoder.fit_transform(data[['event']]).astype(int)"
   ]
  },
  {
   "cell_type": "code",
   "execution_count": null,
   "metadata": {
    "id": "6l7QS1P6ndTr"
   },
   "outputs": [],
   "source": [
    "#ensure we have acces to orignal indexing to keep track of the order of events in a process\n",
    "data['original index'] = data.index\n",
    "\n",
    "#sorting on time\n",
    "data.sort_values(by = \"UNIX_starttime\", ignore_index=True)"
   ]
  },
  {
   "cell_type": "code",
   "execution_count": null,
   "metadata": {
    "id": "P5nloqg7KspI"
   },
   "outputs": [],
   "source": [
    "#separation\n",
    "from sklearn.model_selection import train_test_split\n",
    "\n",
    "train, test = train_test_split(data, test_size=0.2, shuffle=False)"
   ]
  },
  {
   "cell_type": "code",
   "execution_count": null,
   "metadata": {
    "id": "YDODvtbAJZad"
   },
   "outputs": [],
   "source": [
    "#removing overlap - if case is in both datasets, remove\n",
    "\n",
    "train_cases = train['case'].unique().tolist()\n",
    "test_cases = test['case'].unique().tolist()\n",
    "\n",
    "intersect_list = list(set(train_cases).intersection(test_cases))"
   ]
  },
  {
   "cell_type": "code",
   "execution_count": null,
   "metadata": {
    "id": "T9a3TLae6Vgc"
   },
   "outputs": [],
   "source": [
    "#only removes first value in intersect list (needs modification for multiple overlaping values)\n",
    "\n",
    "#train = train[train['case'] != intersect_list[0]]\n",
    "#test = test[test['case'] != intersect_list[0]]\n",
    "\n",
    "#works for more values\n",
    "\n",
    "train = train[train['case'].isin(intersect_list) == False]\n",
    "test = test[test['case'].isin(intersect_list) == False]"
   ]
  },
  {
   "cell_type": "code",
   "execution_count": null,
   "metadata": {
    "id": "wMLdS1KX_H-_"
   },
   "outputs": [],
   "source": [
    "#visualization (no need to include in main code, but might be useful)\n",
    "log = pm4py.read_xes('bpi2018.xes')\n",
    "\n",
    "process_tree = pm4py.discover_tree_inductive(log)\n",
    "pm4py.view_process_tree(process_tree)"
   ]
  },
  {
   "cell_type": "code",
   "execution_count": null,
   "metadata": {
    "colab": {
     "base_uri": "https://localhost:8080/",
     "height": 278
    },
    "id": "C4zbg_3tO2Cd",
    "outputId": "a3215f1b-3d80-4515-a28d-10e2ebd3206f"
   },
   "outputs": [],
   "source": [
    "#separation visualisation\n",
    "\n",
    "g = sns.scatterplot(x=\"UNIX_starttime\", y=\"case\", hue=\"enc_event\", data=data, palette='colorblind', legend=False)\n",
    "\n",
    "#add lines for separation - horizontal and vertical\n"
   ]
  },
  {
   "cell_type": "code",
   "execution_count": null,
   "metadata": {},
   "outputs": [],
   "source": []
  }
 ],
 "metadata": {
  "colab": {
   "collapsed_sections": [],
   "name": "Preprocessing",
   "provenance": []
  },
  "kernelspec": {
   "display_name": "Python 3",
   "language": "python",
   "name": "python3"
  },
  "language_info": {
   "codemirror_mode": {
    "name": "ipython",
    "version": 3
   },
   "file_extension": ".py",
   "mimetype": "text/x-python",
   "name": "python",
   "nbconvert_exporter": "python",
   "pygments_lexer": "ipython3",
   "version": "3.7.6"
  }
 },
 "nbformat": 4,
 "nbformat_minor": 1
}
