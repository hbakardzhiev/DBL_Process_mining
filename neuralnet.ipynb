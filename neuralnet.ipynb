{
 "cells": [
  {
   "cell_type": "code",
   "execution_count": 30,
   "id": "4a34b100",
   "metadata": {},
   "outputs": [],
   "source": [
    "import numpy as np  # import auxiliary library, typical idiom\n",
    "import pandas as pd  # import the Pandas library, typical idiom\n",
    "from numba import jit\n",
    "import matplotlib\n",
    "from matplotlib import pyplot as plt\n",
    "from datetime import datetime, timedelta\n",
    "import tensorflow as tf\n",
    "from tensorflow.keras.preprocessing.text import one_hot\n",
    "from tensorflow.keras.preprocessing.sequence import pad_sequences\n",
    "from tensorflow import keras\n",
    "from sklearn.preprocessing import OrdinalEncoder, LabelEncoder\n",
    "from tqdm.keras import TqdmCallback"
   ]
  },
  {
   "cell_type": "code",
   "execution_count": 2,
   "id": "00086d25",
   "metadata": {
    "scrolled": true
   },
   "outputs": [],
   "source": [
    "df = pd.read_csv('export.csv')"
   ]
  },
  {
   "cell_type": "code",
   "execution_count": 3,
   "id": "bff00fe6",
   "metadata": {
    "scrolled": true
   },
   "outputs": [
    {
     "name": "stderr",
     "output_type": "stream",
     "text": [
      "C:\\Users\\mikok\\AppData\\Local\\Temp\\ipykernel_13436\\3644305937.py:4: NumbaWarning: \u001b[1m\n",
      "Compilation is falling back to object mode WITH looplifting enabled because Function \"calculator_nb\" failed type inference due to: \u001b[1mUntyped global name 'object':\u001b[0m \u001b[1m\u001b[1mCannot determine Numba type of <class 'type'>\u001b[0m\n",
      "\u001b[1m\n",
      "File \"..\\..\\..\\AppData\\Local\\Temp\\ipykernel_13436\\3644305937.py\", line 6:\u001b[0m\n",
      "\u001b[1m<source missing, REPL/exec in use?>\u001b[0m\n",
      "\u001b[0m\u001b[0m\n",
      "  @jit(parallel = True)\n",
      "C:\\Users\\mikok\\AppData\\Local\\Temp\\ipykernel_13436\\3644305937.py:4: NumbaWarning: \u001b[1m\n",
      "Compilation is falling back to object mode WITHOUT looplifting enabled because Function \"calculator_nb\" failed type inference due to: \u001b[1mUntyped global name 'object':\u001b[0m \u001b[1m\u001b[1mCannot determine Numba type of <class 'type'>\u001b[0m\n",
      "\u001b[1m\n",
      "File \"..\\..\\..\\AppData\\Local\\Temp\\ipykernel_13436\\3644305937.py\", line 6:\u001b[0m\n",
      "\u001b[1m<source missing, REPL/exec in use?>\u001b[0m\n",
      "\u001b[0m\u001b[0m\n",
      "  @jit(parallel = True)\n",
      "C:\\Users\\mikok\\AppData\\Local\\Programs\\Python\\Python310\\lib\\site-packages\\numba\\core\\object_mode_passes.py:151: NumbaWarning: \u001b[1mFunction \"calculator_nb\" was compiled in object mode without forceobj=True, but has lifted loops.\n",
      "\u001b[1m\n",
      "File \"..\\..\\..\\AppData\\Local\\Temp\\ipykernel_13436\\3644305937.py\", line 6:\u001b[0m\n",
      "\u001b[1m<source missing, REPL/exec in use?>\u001b[0m\n",
      "\u001b[0m\n",
      "  warnings.warn(errors.NumbaWarning(warn_msg,\n",
      "C:\\Users\\mikok\\AppData\\Local\\Programs\\Python\\Python310\\lib\\site-packages\\numba\\core\\object_mode_passes.py:161: NumbaDeprecationWarning: \u001b[1m\n",
      "Fall-back from the nopython compilation path to the object mode compilation path has been detected, this is deprecated behaviour.\n",
      "\n",
      "For more information visit https://numba.readthedocs.io/en/stable/reference/deprecation.html#deprecation-of-object-mode-fall-back-behaviour-when-using-jit\n",
      "\u001b[1m\n",
      "File \"..\\..\\..\\AppData\\Local\\Temp\\ipykernel_13436\\3644305937.py\", line 6:\u001b[0m\n",
      "\u001b[1m<source missing, REPL/exec in use?>\u001b[0m\n",
      "\u001b[0m\n",
      "  warnings.warn(errors.NumbaDeprecationWarning(msg,\n",
      "C:\\Users\\mikok\\AppData\\Local\\Temp\\ipykernel_13436\\3644305937.py:4: NumbaWarning: \u001b[1m\n",
      "Compilation is falling back to object mode WITHOUT looplifting enabled because Function \"calculator_nb\" failed type inference due to: \u001b[1m\u001b[1mnon-precise type array(pyobject, 1d, C)\u001b[0m\n",
      "\u001b[0m\u001b[1mDuring: typing of argument at C:\\Users\\mikok\\AppData\\Local\\Temp\\ipykernel_13436\\3644305937.py (8)\u001b[0m\n",
      "\u001b[1m\n",
      "File \"..\\..\\..\\AppData\\Local\\Temp\\ipykernel_13436\\3644305937.py\", line 8:\u001b[0m\n",
      "\u001b[1m<source missing, REPL/exec in use?>\u001b[0m\n",
      "\u001b[0m\n",
      "  @jit(parallel = True)\n",
      "C:\\Users\\mikok\\AppData\\Local\\Programs\\Python\\Python310\\lib\\site-packages\\numba\\core\\object_mode_passes.py:151: NumbaWarning: \u001b[1mFunction \"calculator_nb\" was compiled in object mode without forceobj=True.\n",
      "\u001b[1m\n",
      "File \"..\\..\\..\\AppData\\Local\\Temp\\ipykernel_13436\\3644305937.py\", line 8:\u001b[0m\n",
      "\u001b[1m<source missing, REPL/exec in use?>\u001b[0m\n",
      "\u001b[0m\n",
      "  warnings.warn(errors.NumbaWarning(warn_msg,\n",
      "C:\\Users\\mikok\\AppData\\Local\\Programs\\Python\\Python310\\lib\\site-packages\\numba\\core\\object_mode_passes.py:161: NumbaDeprecationWarning: \u001b[1m\n",
      "Fall-back from the nopython compilation path to the object mode compilation path has been detected, this is deprecated behaviour.\n",
      "\n",
      "For more information visit https://numba.readthedocs.io/en/stable/reference/deprecation.html#deprecation-of-object-mode-fall-back-behaviour-when-using-jit\n",
      "\u001b[1m\n",
      "File \"..\\..\\..\\AppData\\Local\\Temp\\ipykernel_13436\\3644305937.py\", line 8:\u001b[0m\n",
      "\u001b[1m<source missing, REPL/exec in use?>\u001b[0m\n",
      "\u001b[0m\n",
      "  warnings.warn(errors.NumbaDeprecationWarning(msg,\n"
     ]
    }
   ],
   "source": [
    "df_next_event = df.copy()\n",
    "\n",
    "#A function for determining the true next event for each event\n",
    "@jit(parallel = True)\n",
    "def calculator_nb(case, event):\n",
    "    res = np.empty(len(case), dtype=object)\n",
    "    idx = 0\n",
    "    for _ in case:\n",
    "        if (idx+1 >= len(case)):\n",
    "            break\n",
    "       \n",
    "        if (case[idx + 1] == case[idx]):\n",
    "            res[idx] = event[idx + 1]\n",
    "\n",
    "        idx+=1\n",
    "    return res\n",
    "\n",
    "df_next_event['next_event'] = calculator_nb(df_next_event['case'].values, df_next_event['event'].values)"
   ]
  },
  {
   "cell_type": "code",
   "execution_count": 4,
   "id": "3831ff54",
   "metadata": {},
   "outputs": [],
   "source": [
    "df = df_next_event"
   ]
  },
  {
   "cell_type": "code",
   "execution_count": 5,
   "id": "fca79f28",
   "metadata": {},
   "outputs": [
    {
     "name": "stderr",
     "output_type": "stream",
     "text": [
      "C:\\Users\\mikok\\AppData\\Local\\Temp\\ipykernel_13436\\3848624921.py:6: FutureWarning: In a future version of pandas all arguments of DataFrame.drop except for the argument 'labels' will be keyword-only.\n",
      "  df_reduced = df_reduced.drop(col, 1)\n",
      "C:\\Users\\mikok\\AppData\\Local\\Temp\\ipykernel_13436\\3848624921.py:6: FutureWarning: In a future version of pandas all arguments of DataFrame.drop except for the argument 'labels' will be keyword-only.\n",
      "  df_reduced = df_reduced.drop(col, 1)\n",
      "C:\\Users\\mikok\\AppData\\Local\\Temp\\ipykernel_13436\\3848624921.py:6: FutureWarning: In a future version of pandas all arguments of DataFrame.drop except for the argument 'labels' will be keyword-only.\n",
      "  df_reduced = df_reduced.drop(col, 1)\n",
      "C:\\Users\\mikok\\AppData\\Local\\Temp\\ipykernel_13436\\3848624921.py:6: FutureWarning: In a future version of pandas all arguments of DataFrame.drop except for the argument 'labels' will be keyword-only.\n",
      "  df_reduced = df_reduced.drop(col, 1)\n",
      "C:\\Users\\mikok\\AppData\\Local\\Temp\\ipykernel_13436\\3848624921.py:6: FutureWarning: In a future version of pandas all arguments of DataFrame.drop except for the argument 'labels' will be keyword-only.\n",
      "  df_reduced = df_reduced.drop(col, 1)\n",
      "C:\\Users\\mikok\\AppData\\Local\\Temp\\ipykernel_13436\\3848624921.py:6: FutureWarning: In a future version of pandas all arguments of DataFrame.drop except for the argument 'labels' will be keyword-only.\n",
      "  df_reduced = df_reduced.drop(col, 1)\n",
      "C:\\Users\\mikok\\AppData\\Local\\Temp\\ipykernel_13436\\3848624921.py:6: FutureWarning: In a future version of pandas all arguments of DataFrame.drop except for the argument 'labels' will be keyword-only.\n",
      "  df_reduced = df_reduced.drop(col, 1)\n",
      "C:\\Users\\mikok\\AppData\\Local\\Temp\\ipykernel_13436\\3848624921.py:6: FutureWarning: In a future version of pandas all arguments of DataFrame.drop except for the argument 'labels' will be keyword-only.\n",
      "  df_reduced = df_reduced.drop(col, 1)\n",
      "C:\\Users\\mikok\\AppData\\Local\\Temp\\ipykernel_13436\\3848624921.py:6: FutureWarning: In a future version of pandas all arguments of DataFrame.drop except for the argument 'labels' will be keyword-only.\n",
      "  df_reduced = df_reduced.drop(col, 1)\n",
      "C:\\Users\\mikok\\AppData\\Local\\Temp\\ipykernel_13436\\3848624921.py:6: FutureWarning: In a future version of pandas all arguments of DataFrame.drop except for the argument 'labels' will be keyword-only.\n",
      "  df_reduced = df_reduced.drop(col, 1)\n",
      "C:\\Users\\mikok\\AppData\\Local\\Temp\\ipykernel_13436\\3848624921.py:6: FutureWarning: In a future version of pandas all arguments of DataFrame.drop except for the argument 'labels' will be keyword-only.\n",
      "  df_reduced = df_reduced.drop(col, 1)\n",
      "C:\\Users\\mikok\\AppData\\Local\\Temp\\ipykernel_13436\\3848624921.py:6: FutureWarning: In a future version of pandas all arguments of DataFrame.drop except for the argument 'labels' will be keyword-only.\n",
      "  df_reduced = df_reduced.drop(col, 1)\n",
      "C:\\Users\\mikok\\AppData\\Local\\Temp\\ipykernel_13436\\3848624921.py:6: FutureWarning: In a future version of pandas all arguments of DataFrame.drop except for the argument 'labels' will be keyword-only.\n",
      "  df_reduced = df_reduced.drop(col, 1)\n",
      "C:\\Users\\mikok\\AppData\\Local\\Temp\\ipykernel_13436\\3848624921.py:6: FutureWarning: In a future version of pandas all arguments of DataFrame.drop except for the argument 'labels' will be keyword-only.\n",
      "  df_reduced = df_reduced.drop(col, 1)\n",
      "C:\\Users\\mikok\\AppData\\Local\\Temp\\ipykernel_13436\\3848624921.py:6: FutureWarning: In a future version of pandas all arguments of DataFrame.drop except for the argument 'labels' will be keyword-only.\n",
      "  df_reduced = df_reduced.drop(col, 1)\n",
      "C:\\Users\\mikok\\AppData\\Local\\Temp\\ipykernel_13436\\3848624921.py:6: FutureWarning: In a future version of pandas all arguments of DataFrame.drop except for the argument 'labels' will be keyword-only.\n",
      "  df_reduced = df_reduced.drop(col, 1)\n",
      "C:\\Users\\mikok\\AppData\\Local\\Temp\\ipykernel_13436\\3848624921.py:6: FutureWarning: In a future version of pandas all arguments of DataFrame.drop except for the argument 'labels' will be keyword-only.\n",
      "  df_reduced = df_reduced.drop(col, 1)\n",
      "C:\\Users\\mikok\\AppData\\Local\\Temp\\ipykernel_13436\\3848624921.py:6: FutureWarning: In a future version of pandas all arguments of DataFrame.drop except for the argument 'labels' will be keyword-only.\n",
      "  df_reduced = df_reduced.drop(col, 1)\n",
      "C:\\Users\\mikok\\AppData\\Local\\Temp\\ipykernel_13436\\3848624921.py:6: FutureWarning: In a future version of pandas all arguments of DataFrame.drop except for the argument 'labels' will be keyword-only.\n",
      "  df_reduced = df_reduced.drop(col, 1)\n",
      "C:\\Users\\mikok\\AppData\\Local\\Temp\\ipykernel_13436\\3848624921.py:6: FutureWarning: In a future version of pandas all arguments of DataFrame.drop except for the argument 'labels' will be keyword-only.\n",
      "  df_reduced = df_reduced.drop(col, 1)\n",
      "C:\\Users\\mikok\\AppData\\Local\\Temp\\ipykernel_13436\\3848624921.py:6: FutureWarning: In a future version of pandas all arguments of DataFrame.drop except for the argument 'labels' will be keyword-only.\n",
      "  df_reduced = df_reduced.drop(col, 1)\n",
      "C:\\Users\\mikok\\AppData\\Local\\Temp\\ipykernel_13436\\3848624921.py:6: FutureWarning: In a future version of pandas all arguments of DataFrame.drop except for the argument 'labels' will be keyword-only.\n",
      "  df_reduced = df_reduced.drop(col, 1)\n",
      "C:\\Users\\mikok\\AppData\\Local\\Temp\\ipykernel_13436\\3848624921.py:6: FutureWarning: In a future version of pandas all arguments of DataFrame.drop except for the argument 'labels' will be keyword-only.\n",
      "  df_reduced = df_reduced.drop(col, 1)\n",
      "C:\\Users\\mikok\\AppData\\Local\\Temp\\ipykernel_13436\\3848624921.py:6: FutureWarning: In a future version of pandas all arguments of DataFrame.drop except for the argument 'labels' will be keyword-only.\n",
      "  df_reduced = df_reduced.drop(col, 1)\n",
      "C:\\Users\\mikok\\AppData\\Local\\Temp\\ipykernel_13436\\3848624921.py:6: FutureWarning: In a future version of pandas all arguments of DataFrame.drop except for the argument 'labels' will be keyword-only.\n",
      "  df_reduced = df_reduced.drop(col, 1)\n",
      "C:\\Users\\mikok\\AppData\\Local\\Temp\\ipykernel_13436\\3848624921.py:6: FutureWarning: In a future version of pandas all arguments of DataFrame.drop except for the argument 'labels' will be keyword-only.\n",
      "  df_reduced = df_reduced.drop(col, 1)\n",
      "C:\\Users\\mikok\\AppData\\Local\\Temp\\ipykernel_13436\\3848624921.py:6: FutureWarning: In a future version of pandas all arguments of DataFrame.drop except for the argument 'labels' will be keyword-only.\n",
      "  df_reduced = df_reduced.drop(col, 1)\n",
      "C:\\Users\\mikok\\AppData\\Local\\Temp\\ipykernel_13436\\3848624921.py:6: FutureWarning: In a future version of pandas all arguments of DataFrame.drop except for the argument 'labels' will be keyword-only.\n",
      "  df_reduced = df_reduced.drop(col, 1)\n",
      "C:\\Users\\mikok\\AppData\\Local\\Temp\\ipykernel_13436\\3848624921.py:6: FutureWarning: In a future version of pandas all arguments of DataFrame.drop except for the argument 'labels' will be keyword-only.\n",
      "  df_reduced = df_reduced.drop(col, 1)\n",
      "C:\\Users\\mikok\\AppData\\Local\\Temp\\ipykernel_13436\\3848624921.py:6: FutureWarning: In a future version of pandas all arguments of DataFrame.drop except for the argument 'labels' will be keyword-only.\n",
      "  df_reduced = df_reduced.drop(col, 1)\n",
      "C:\\Users\\mikok\\AppData\\Local\\Temp\\ipykernel_13436\\3848624921.py:6: FutureWarning: In a future version of pandas all arguments of DataFrame.drop except for the argument 'labels' will be keyword-only.\n",
      "  df_reduced = df_reduced.drop(col, 1)\n",
      "C:\\Users\\mikok\\AppData\\Local\\Temp\\ipykernel_13436\\3848624921.py:6: FutureWarning: In a future version of pandas all arguments of DataFrame.drop except for the argument 'labels' will be keyword-only.\n",
      "  df_reduced = df_reduced.drop(col, 1)\n",
      "C:\\Users\\mikok\\AppData\\Local\\Temp\\ipykernel_13436\\3848624921.py:6: FutureWarning: In a future version of pandas all arguments of DataFrame.drop except for the argument 'labels' will be keyword-only.\n",
      "  df_reduced = df_reduced.drop(col, 1)\n",
      "C:\\Users\\mikok\\AppData\\Local\\Temp\\ipykernel_13436\\3848624921.py:6: FutureWarning: In a future version of pandas all arguments of DataFrame.drop except for the argument 'labels' will be keyword-only.\n",
      "  df_reduced = df_reduced.drop(col, 1)\n",
      "C:\\Users\\mikok\\AppData\\Local\\Temp\\ipykernel_13436\\3848624921.py:6: FutureWarning: In a future version of pandas all arguments of DataFrame.drop except for the argument 'labels' will be keyword-only.\n",
      "  df_reduced = df_reduced.drop(col, 1)\n"
     ]
    },
    {
     "name": "stderr",
     "output_type": "stream",
     "text": [
      "C:\\Users\\mikok\\AppData\\Local\\Temp\\ipykernel_13436\\3848624921.py:6: FutureWarning: In a future version of pandas all arguments of DataFrame.drop except for the argument 'labels' will be keyword-only.\n",
      "  df_reduced = df_reduced.drop(col, 1)\n",
      "C:\\Users\\mikok\\AppData\\Local\\Temp\\ipykernel_13436\\3848624921.py:6: FutureWarning: In a future version of pandas all arguments of DataFrame.drop except for the argument 'labels' will be keyword-only.\n",
      "  df_reduced = df_reduced.drop(col, 1)\n",
      "C:\\Users\\mikok\\AppData\\Local\\Temp\\ipykernel_13436\\3848624921.py:6: FutureWarning: In a future version of pandas all arguments of DataFrame.drop except for the argument 'labels' will be keyword-only.\n",
      "  df_reduced = df_reduced.drop(col, 1)\n",
      "C:\\Users\\mikok\\AppData\\Local\\Temp\\ipykernel_13436\\3848624921.py:6: FutureWarning: In a future version of pandas all arguments of DataFrame.drop except for the argument 'labels' will be keyword-only.\n",
      "  df_reduced = df_reduced.drop(col, 1)\n",
      "C:\\Users\\mikok\\AppData\\Local\\Temp\\ipykernel_13436\\3848624921.py:6: FutureWarning: In a future version of pandas all arguments of DataFrame.drop except for the argument 'labels' will be keyword-only.\n",
      "  df_reduced = df_reduced.drop(col, 1)\n",
      "C:\\Users\\mikok\\AppData\\Local\\Temp\\ipykernel_13436\\3848624921.py:6: FutureWarning: In a future version of pandas all arguments of DataFrame.drop except for the argument 'labels' will be keyword-only.\n",
      "  df_reduced = df_reduced.drop(col, 1)\n",
      "C:\\Users\\mikok\\AppData\\Local\\Temp\\ipykernel_13436\\3848624921.py:6: FutureWarning: In a future version of pandas all arguments of DataFrame.drop except for the argument 'labels' will be keyword-only.\n",
      "  df_reduced = df_reduced.drop(col, 1)\n",
      "C:\\Users\\mikok\\AppData\\Local\\Temp\\ipykernel_13436\\3848624921.py:6: FutureWarning: In a future version of pandas all arguments of DataFrame.drop except for the argument 'labels' will be keyword-only.\n",
      "  df_reduced = df_reduced.drop(col, 1)\n",
      "C:\\Users\\mikok\\AppData\\Local\\Temp\\ipykernel_13436\\3848624921.py:6: FutureWarning: In a future version of pandas all arguments of DataFrame.drop except for the argument 'labels' will be keyword-only.\n",
      "  df_reduced = df_reduced.drop(col, 1)\n",
      "C:\\Users\\mikok\\AppData\\Local\\Temp\\ipykernel_13436\\3848624921.py:6: FutureWarning: In a future version of pandas all arguments of DataFrame.drop except for the argument 'labels' will be keyword-only.\n",
      "  df_reduced = df_reduced.drop(col, 1)\n",
      "C:\\Users\\mikok\\AppData\\Local\\Temp\\ipykernel_13436\\3848624921.py:6: FutureWarning: In a future version of pandas all arguments of DataFrame.drop except for the argument 'labels' will be keyword-only.\n",
      "  df_reduced = df_reduced.drop(col, 1)\n",
      "C:\\Users\\mikok\\AppData\\Local\\Temp\\ipykernel_13436\\3848624921.py:6: FutureWarning: In a future version of pandas all arguments of DataFrame.drop except for the argument 'labels' will be keyword-only.\n",
      "  df_reduced = df_reduced.drop(col, 1)\n",
      "C:\\Users\\mikok\\AppData\\Local\\Temp\\ipykernel_13436\\3848624921.py:6: FutureWarning: In a future version of pandas all arguments of DataFrame.drop except for the argument 'labels' will be keyword-only.\n",
      "  df_reduced = df_reduced.drop(col, 1)\n",
      "C:\\Users\\mikok\\AppData\\Local\\Temp\\ipykernel_13436\\3848624921.py:6: FutureWarning: In a future version of pandas all arguments of DataFrame.drop except for the argument 'labels' will be keyword-only.\n",
      "  df_reduced = df_reduced.drop(col, 1)\n",
      "C:\\Users\\mikok\\AppData\\Local\\Temp\\ipykernel_13436\\3848624921.py:6: FutureWarning: In a future version of pandas all arguments of DataFrame.drop except for the argument 'labels' will be keyword-only.\n",
      "  df_reduced = df_reduced.drop(col, 1)\n",
      "C:\\Users\\mikok\\AppData\\Local\\Temp\\ipykernel_13436\\3848624921.py:6: FutureWarning: In a future version of pandas all arguments of DataFrame.drop except for the argument 'labels' will be keyword-only.\n",
      "  df_reduced = df_reduced.drop(col, 1)\n",
      "C:\\Users\\mikok\\AppData\\Local\\Temp\\ipykernel_13436\\3848624921.py:6: FutureWarning: In a future version of pandas all arguments of DataFrame.drop except for the argument 'labels' will be keyword-only.\n",
      "  df_reduced = df_reduced.drop(col, 1)\n",
      "C:\\Users\\mikok\\AppData\\Local\\Temp\\ipykernel_13436\\3848624921.py:6: FutureWarning: In a future version of pandas all arguments of DataFrame.drop except for the argument 'labels' will be keyword-only.\n",
      "  df_reduced = df_reduced.drop(col, 1)\n",
      "C:\\Users\\mikok\\AppData\\Local\\Temp\\ipykernel_13436\\3848624921.py:6: FutureWarning: In a future version of pandas all arguments of DataFrame.drop except for the argument 'labels' will be keyword-only.\n",
      "  df_reduced = df_reduced.drop(col, 1)\n",
      "C:\\Users\\mikok\\AppData\\Local\\Temp\\ipykernel_13436\\3848624921.py:6: FutureWarning: In a future version of pandas all arguments of DataFrame.drop except for the argument 'labels' will be keyword-only.\n",
      "  df_reduced = df_reduced.drop(col, 1)\n",
      "C:\\Users\\mikok\\AppData\\Local\\Temp\\ipykernel_13436\\3848624921.py:6: FutureWarning: In a future version of pandas all arguments of DataFrame.drop except for the argument 'labels' will be keyword-only.\n",
      "  df_reduced = df_reduced.drop(col, 1)\n",
      "C:\\Users\\mikok\\AppData\\Local\\Temp\\ipykernel_13436\\3848624921.py:6: FutureWarning: In a future version of pandas all arguments of DataFrame.drop except for the argument 'labels' will be keyword-only.\n",
      "  df_reduced = df_reduced.drop(col, 1)\n",
      "C:\\Users\\mikok\\AppData\\Local\\Temp\\ipykernel_13436\\3848624921.py:6: FutureWarning: In a future version of pandas all arguments of DataFrame.drop except for the argument 'labels' will be keyword-only.\n",
      "  df_reduced = df_reduced.drop(col, 1)\n",
      "C:\\Users\\mikok\\AppData\\Local\\Temp\\ipykernel_13436\\3848624921.py:6: FutureWarning: In a future version of pandas all arguments of DataFrame.drop except for the argument 'labels' will be keyword-only.\n",
      "  df_reduced = df_reduced.drop(col, 1)\n",
      "C:\\Users\\mikok\\AppData\\Local\\Temp\\ipykernel_13436\\3848624921.py:6: FutureWarning: In a future version of pandas all arguments of DataFrame.drop except for the argument 'labels' will be keyword-only.\n",
      "  df_reduced = df_reduced.drop(col, 1)\n",
      "C:\\Users\\mikok\\AppData\\Local\\Temp\\ipykernel_13436\\3848624921.py:6: FutureWarning: In a future version of pandas all arguments of DataFrame.drop except for the argument 'labels' will be keyword-only.\n",
      "  df_reduced = df_reduced.drop(col, 1)\n",
      "C:\\Users\\mikok\\AppData\\Local\\Temp\\ipykernel_13436\\3848624921.py:6: FutureWarning: In a future version of pandas all arguments of DataFrame.drop except for the argument 'labels' will be keyword-only.\n",
      "  df_reduced = df_reduced.drop(col, 1)\n",
      "C:\\Users\\mikok\\AppData\\Local\\Temp\\ipykernel_13436\\3848624921.py:6: FutureWarning: In a future version of pandas all arguments of DataFrame.drop except for the argument 'labels' will be keyword-only.\n",
      "  df_reduced = df_reduced.drop(col, 1)\n",
      "C:\\Users\\mikok\\AppData\\Local\\Temp\\ipykernel_13436\\3848624921.py:6: FutureWarning: In a future version of pandas all arguments of DataFrame.drop except for the argument 'labels' will be keyword-only.\n",
      "  df_reduced = df_reduced.drop(col, 1)\n",
      "C:\\Users\\mikok\\AppData\\Local\\Temp\\ipykernel_13436\\3848624921.py:6: FutureWarning: In a future version of pandas all arguments of DataFrame.drop except for the argument 'labels' will be keyword-only.\n",
      "  df_reduced = df_reduced.drop(col, 1)\n",
      "C:\\Users\\mikok\\AppData\\Local\\Temp\\ipykernel_13436\\3848624921.py:6: FutureWarning: In a future version of pandas all arguments of DataFrame.drop except for the argument 'labels' will be keyword-only.\n",
      "  df_reduced = df_reduced.drop(col, 1)\n",
      "C:\\Users\\mikok\\AppData\\Local\\Temp\\ipykernel_13436\\3848624921.py:6: FutureWarning: In a future version of pandas all arguments of DataFrame.drop except for the argument 'labels' will be keyword-only.\n",
      "  df_reduced = df_reduced.drop(col, 1)\n",
      "C:\\Users\\mikok\\AppData\\Local\\Temp\\ipykernel_13436\\3848624921.py:6: FutureWarning: In a future version of pandas all arguments of DataFrame.drop except for the argument 'labels' will be keyword-only.\n",
      "  df_reduced = df_reduced.drop(col, 1)\n"
     ]
    }
   ],
   "source": [
    "goodshit = ['case','event','number_parcels','payment_actual0','area','cross_compliance','penalty_amount0','next_event']\n",
    "df_reduced = df.copy()\n",
    "\n",
    "for col in df.columns:\n",
    "    if (goodshit.count(col) == 0):\n",
    "        df_reduced = df_reduced.drop(col, 1)"
   ]
  },
  {
   "cell_type": "code",
   "execution_count": 6,
   "id": "3aab8eca",
   "metadata": {},
   "outputs": [],
   "source": [
    "def normalize(col_name):\n",
    "    col_as_array = df_reduced[col_name].to_numpy()\n",
    "    col_as_array = np.where(col_as_array == 0, 0.5, col_as_array)\n",
    "    col_as_array_norm = np.log10(col_as_array)\n",
    "    mean = col_as_array_norm.mean()\n",
    "    stdev = col_as_array_norm.std()\n",
    "    epsilon = 0.01\n",
    "    return (col_as_array_norm - mean) / (stdev + epsilon)"
   ]
  },
  {
   "cell_type": "code",
   "execution_count": 11,
   "id": "65e10928",
   "metadata": {},
   "outputs": [],
   "source": [
    "def col_to_millis(col_name):\n",
    "    col_as_array = df_reduced[col_name].to_numpy()\n",
    "    col_as_array[:] = [elem[:19] for elem in col_as_array]\n",
    "    \n",
    "    result = []\n",
    "    for date in col_as_array:\n",
    "        utctime = datetime.strptime(date, \"%Y/%m/%d %H:%M:%S\")\n",
    "        result.append((utctime - datetime(1970, 1, 1)) // timedelta(milliseconds=1))\n",
    "    \n",
    "    return result"
   ]
  },
  {
   "cell_type": "code",
   "execution_count": 7,
   "id": "39fa105f",
   "metadata": {},
   "outputs": [],
   "source": [
    "df_reduced = df_reduced.fillna(value=\"None\")"
   ]
  },
  {
   "cell_type": "code",
   "execution_count": 9,
   "id": "ebac0b72",
   "metadata": {},
   "outputs": [],
   "source": [
    "df_reduced, validate, test = np.split(df_reduced.sample(frac=1), [int(.6*len(df_reduced)), int(.8*len(df_reduced))])"
   ]
  },
  {
   "cell_type": "code",
   "execution_count": 65,
   "id": "c094a63d",
   "metadata": {},
   "outputs": [],
   "source": [
    "event = df_reduced['event'].to_numpy()\n",
    "next_event = df_reduced['next_event'].to_numpy()"
   ]
  },
  {
   "cell_type": "code",
   "execution_count": 67,
   "id": "ffd7ad55",
   "metadata": {},
   "outputs": [],
   "source": [
    "ordinal_encoder = OrdinalEncoder()\n",
    "label_encoder = LabelEncoder()\n",
    "event = event.reshape(-1, 1)\n",
    "event_encoded = ordinal_encoder.fit_transform(event)\n",
    "next_event_encoded = label_encoder.fit_transform(next_event)\n",
    "next_event_encoded = next_event_encoded.reshape(-1, 1)"
   ]
  },
  {
   "cell_type": "code",
   "execution_count": 68,
   "id": "35b576ab",
   "metadata": {},
   "outputs": [
    {
     "data": {
      "text/plain": [
       "array([[20],\n",
       "       [18],\n",
       "       [20],\n",
       "       ...,\n",
       "       [ 9],\n",
       "       [20],\n",
       "       [ 9]])"
      ]
     },
     "execution_count": 68,
     "metadata": {},
     "output_type": "execute_result"
    }
   ],
   "source": [
    "next_event_encoded"
   ]
  },
  {
   "cell_type": "code",
   "execution_count": 56,
   "id": "55e51c6c",
   "metadata": {},
   "outputs": [],
   "source": [
    "number_parcels = normalize('number_parcels')\n",
    "payment_actual0 = normalize('payment_actual0')\n",
    "area = normalize('area')\n",
    "cross_compliance = normalize('cross_compliance')\n",
    "penalty_amount0 = normalize('penalty_amount0')"
   ]
  },
  {
   "cell_type": "code",
   "execution_count": 57,
   "id": "0d9ea0bc",
   "metadata": {},
   "outputs": [],
   "source": [
    "training = []\n",
    "for i in range(len(event_encoded)):\n",
    "    current = event_encoded[i]\n",
    "    current = np.append(current,number_parcels[i])\n",
    "    current = np.append(current,payment_actual0[i])\n",
    "    current = np.append(current,area[i])\n",
    "    current = np.append(current,cross_compliance[i])\n",
    "    current = np.append(current,penalty_amount0[i])\n",
    "    training.append(current)"
   ]
  },
  {
   "cell_type": "code",
   "execution_count": 17,
   "id": "b0123db7",
   "metadata": {},
   "outputs": [],
   "source": [
    "labels = []\n",
    "for i in range(len(next_event_encoded)):\n",
    "    current = next_event_encoded[i]\n",
    "    current = np.append(current,[0,0,0,0,0])\n",
    "    labels.append(current)"
   ]
  },
  {
   "cell_type": "code",
   "execution_count": 58,
   "id": "d67f5a0f",
   "metadata": {},
   "outputs": [],
   "source": [
    "labels = next_event_encoded"
   ]
  },
  {
   "cell_type": "code",
   "execution_count": 62,
   "id": "c3e027f9",
   "metadata": {},
   "outputs": [
    {
     "data": {
      "text/plain": [
       "array([[20],\n",
       "       [18],\n",
       "       [20],\n",
       "       ...,\n",
       "       [ 9],\n",
       "       [20],\n",
       "       [ 9]])"
      ]
     },
     "execution_count": 62,
     "metadata": {},
     "output_type": "execute_result"
    }
   ],
   "source": [
    "labels"
   ]
  },
  {
   "cell_type": "code",
   "execution_count": 54,
   "id": "32d35b12",
   "metadata": {},
   "outputs": [],
   "source": [
    "model = keras.Sequential([\n",
    "    keras.layers.Flatten(input_shape=(6,)),\n",
    "    keras.layers.Dense(128, activation='relu'),\n",
    "    keras.layers.Dense(43, activation='softmax')\n",
    "])\n",
    "\n",
    "model.compile(optimizer='adam',loss='sparse_categorical_crossentropy',metrics=['accuracy'])"
   ]
  },
  {
   "cell_type": "code",
   "execution_count": 64,
   "id": "cbd35a3d",
   "metadata": {},
   "outputs": [
    {
     "name": "stdout",
     "output_type": "stream",
     "text": [
      "Epoch 1/10\n",
      "47143/47143 [==============================] - 76s 2ms/step - loss: 1.6577 - accuracy: 0.5044\n",
      "Epoch 2/10\n",
      "47143/47143 [==============================] - 77s 2ms/step - loss: 1.5367 - accuracy: 0.5292\n",
      "Epoch 3/10\n",
      "47143/47143 [==============================] - 75s 2ms/step - loss: 1.5022 - accuracy: 0.5394\n",
      "Epoch 4/10\n",
      "47143/47143 [==============================] - 77s 2ms/step - loss: 1.4845 - accuracy: 0.5465\n",
      "Epoch 5/10\n",
      "47143/47143 [==============================] - 76s 2ms/step - loss: 1.4715 - accuracy: 0.5508\n",
      "Epoch 6/10\n",
      "47143/47143 [==============================] - 76s 2ms/step - loss: 1.4618 - accuracy: 0.5536\n",
      "Epoch 7/10\n",
      "47143/47143 [==============================] - 77s 2ms/step - loss: 1.4547 - accuracy: 0.5554\n",
      "Epoch 8/10\n",
      "47143/47143 [==============================] - 76s 2ms/step - loss: 1.4492 - accuracy: 0.5571\n",
      "Epoch 9/10\n",
      "47143/47143 [==============================] - 76s 2ms/step - loss: 1.4442 - accuracy: 0.5583\n",
      "Epoch 10/10\n",
      "47143/47143 [==============================] - 75s 2ms/step - loss: 1.4403 - accuracy: 0.5592\n"
     ]
    },
    {
     "data": {
      "text/plain": [
       "<keras.callbacks.History at 0x194970d9180>"
      ]
     },
     "execution_count": 64,
     "metadata": {},
     "output_type": "execute_result"
    }
   ],
   "source": [
    "model.fit(np.array(training),np.array(labels),epochs=10,verbose=1)"
   ]
  },
  {
   "cell_type": "code",
   "execution_count": 74,
   "id": "694efcfb",
   "metadata": {},
   "outputs": [],
   "source": [
    "def normalizetest(col_name):\n",
    "    col_as_array = test[col_name].to_numpy()\n",
    "    col_as_array = np.where(col_as_array == 0, 0.5, col_as_array)\n",
    "    col_as_array_norm = np.log10(col_as_array)\n",
    "    mean = col_as_array_norm.mean()\n",
    "    stdev = col_as_array_norm.std()\n",
    "    epsilon = 0.01\n",
    "    return (col_as_array_norm - mean) / (stdev + epsilon)"
   ]
  },
  {
   "cell_type": "code",
   "execution_count": 71,
   "id": "c6354898",
   "metadata": {},
   "outputs": [],
   "source": [
    "event_test = test['event'].to_numpy()\n",
    "next_event_test = test['next_event'].to_numpy()"
   ]
  },
  {
   "cell_type": "code",
   "execution_count": 72,
   "id": "8b37cc79",
   "metadata": {},
   "outputs": [],
   "source": [
    "event_test = event_test.reshape(-1, 1)\n",
    "event_encoded_test = ordinal_encoder.fit_transform(event_test)\n",
    "next_event_encoded_test = label_encoder.fit_transform(next_event_test)\n",
    "next_event_encoded_test = next_event_encoded_test.reshape(-1, 1)"
   ]
  },
  {
   "cell_type": "code",
   "execution_count": 75,
   "id": "d12fe6fa",
   "metadata": {},
   "outputs": [],
   "source": [
    "number_parcels_test = normalizetest('number_parcels')\n",
    "payment_actual0_test = normalizetest('payment_actual0')\n",
    "area_test = normalizetest('area')\n",
    "cross_compliance_test = normalizetest('cross_compliance')\n",
    "penalty_amount0_test = normalizetest('penalty_amount0')"
   ]
  },
  {
   "cell_type": "code",
   "execution_count": 76,
   "id": "d93dfa1d",
   "metadata": {},
   "outputs": [],
   "source": [
    "testing = []\n",
    "for i in range(len(event_encoded_test)):\n",
    "    current = event_encoded_test[i]\n",
    "    current = np.append(current,number_parcels_test[i])\n",
    "    current = np.append(current,payment_actual0_test[i])\n",
    "    current = np.append(current,area_test[i])\n",
    "    current = np.append(current,cross_compliance_test[i])\n",
    "    current = np.append(current,penalty_amount0_test[i])\n",
    "    testing.append(current)"
   ]
  },
  {
   "cell_type": "code",
   "execution_count": 78,
   "id": "2497e5a3",
   "metadata": {},
   "outputs": [],
   "source": [
    "labels_test = next_event_encoded_test"
   ]
  },
  {
   "cell_type": "code",
   "execution_count": 81,
   "id": "41daf329",
   "metadata": {},
   "outputs": [
    {
     "name": "stdout",
     "output_type": "stream",
     "text": [
      "15715/15715 [==============================] - 15s 941us/step - loss: 1.4320 - accuracy: 0.5610\n"
     ]
    },
    {
     "data": {
      "text/plain": [
       "0.5609620213508606"
      ]
     },
     "execution_count": 81,
     "metadata": {},
     "output_type": "execute_result"
    }
   ],
   "source": [
    "test_loss, test_acc = model.evaluate(np.array(testing), np.array(labels_test), verbose=1)\n",
    "test_acc"
   ]
  }
 ],
 "metadata": {
  "kernelspec": {
   "display_name": "Python 3 (ipykernel)",
   "language": "python",
   "name": "python3"
  },
  "language_info": {
   "codemirror_mode": {
    "name": "ipython",
    "version": 3
   },
   "file_extension": ".py",
   "mimetype": "text/x-python",
   "name": "python",
   "nbconvert_exporter": "python",
   "pygments_lexer": "ipython3",
   "version": "3.10.2"
  }
 },
 "nbformat": 4,
 "nbformat_minor": 5
}
