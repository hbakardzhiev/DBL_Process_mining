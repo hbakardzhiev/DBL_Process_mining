{
 "cells": [
  {
   "cell_type": "markdown",
   "metadata": {
    "id": "7Js4L6gVB_45"
   },
   "source": [
    "Before applying linear regression models, make sure to check that a linear relationship exists between the dependent variable (i.e., what you are trying to predict) and the independent variable/s (i.e., the input variable/s)."
   ]
  },
  {
   "cell_type": "markdown",
   "metadata": {
    "id": "rvLeXXmpAMRv"
   },
   "source": [
    "OLS regression model"
   ]
  },
  {
   "cell_type": "code",
   "execution_count": 7,
   "metadata": {
    "id": "U6mIqCn8m7GI"
   },
   "outputs": [],
   "source": [
    "import os\n",
    "import psutil\n",
    "import numpy as np  # import auxiliary library, typical idiom\n",
    "import pandas as pd  # import the Pandas library, typical idiom\n",
    "import statsmodels.api as sm\n",
    "from datetime import datetime\n",
    "from datetime import date\n",
    "from datetime import time\n",
    "from datetime import datetime\n",
    "from datetime import timedelta\n",
    "\n",
    "from numba import jit\n",
    "\n",
    "from sklearn.linear_model import LinearRegression  # for linear regression\n",
    "from sklearn import linear_model\n",
    "from sklearn.cluster import KMeans  # for clustering\n",
    "from sklearn.tree import DecisionTreeClassifier  # for decision tree mining\n",
    "from sklearn.metrics import mean_absolute_error, confusion_matrix, mean_squared_error, r2_score\n",
    "from sklearn.model_selection import train_test_split\n",
    "\n",
    "%matplotlib inline\n",
    "import seaborn as sns\n",
    "import matplotlib.pyplot as plt\n",
    "import statsmodels.formula.api as smf \n",
    "import statsmodels.api as sm\n",
    "from statsmodels.graphics.gofplots import ProbPlot"
   ]
  },
  {
   "cell_type": "code",
   "execution_count": 9,
   "metadata": {
    "id": "ikhuSmtjoCrd"
   },
   "outputs": [],
   "source": [
    "file_export = 'export2012.csv'\n",
    "data = pd.read_csv(file_export)"
   ]
  },
  {
   "cell_type": "code",
   "execution_count": 63,
   "metadata": {
    "id": "KkSL2wxCR1Xg"
   },
   "outputs": [],
   "source": [
    "from sklearn.preprocessing import OrdinalEncoder\n",
    "ordinal_encoder = OrdinalEncoder()\n",
    "result_data['event_encoded'] = ordinal_encoder.fit_transform(result_data[['event']])"
   ]
  },
  {
   "cell_type": "code",
   "execution_count": 62,
   "metadata": {
    "id": "oTMhnBngrzpT"
   },
   "outputs": [],
   "source": [
    "data['completeTimenum'] = pd.to_datetime(data['completeTime'])\n",
    "data['completetime'] = data['completeTimenum'].map(datetime.toordinal)\n",
    "\n",
    "data['startTimenum'] = pd.to_datetime(data['startTime'])\n",
    "data['starttime'] = data['startTimenum'].map(datetime.toordinal)\n",
    "\n",
    "data['REG_DATEnum'] = pd.to_datetime(data['REG_DATE'])\n",
    "data['regdate'] = data['REG_DATEnum'].map(datetime.toordinal)\n"
   ]
  },
  {
   "cell_type": "code",
   "execution_count": null,
   "metadata": {
    "id": "kB_7s4bxAJ7V"
   },
   "outputs": [],
   "source": [
    "#activity predicion\n",
    "x = data[['starttime','completetime','regdate','AMOUNT_REQ', 'org:resource']]\n",
    "y = data['event_encoded']\n",
    "X = np.array(df_filtered[\"event\"].values, dtype=float)\n",
    "\n",
    "# prediction with sklearn\n",
    "regr = linear_model.LinearRegression()\n",
    "regr.fit(x, y)\n",
    "print('Intercept: \\n', regr.intercept_)\n",
    "print('Coefficients: \\n', regr.coef_)\n",
    "#add pred column\n",
    "\n",
    "# prediction with statsmodels\n",
    "#x = sm.add_constant(x) # adding a constant\n",
    "#model = sm.OLS(y, x).fit()\n",
    "#predictions = model.predict(X) \n",
    "#model_sum = model.summary()\n",
    "#print(model_sum)"
   ]
  },
  {
   "cell_type": "code",
   "execution_count": null,
   "metadata": {
    "id": "aAuaBVzmQ1Yr"
   },
   "outputs": [],
   "source": [
    "#notebook is a mess, if code below is after Hristo's, it should work inside complete notebook regardless"
   ]
  },
  {
   "cell_type": "code",
   "execution_count": null,
   "metadata": {
    "id": "A1NqrP9NQ4Ju"
   },
   "outputs": [],
   "source": [
    "# OLS regression - event prediction\n",
    "\n",
    "x = np.floor(df_filtered[\"starttime\"].values, dtype=float)\n",
    "y = np.array(df_filtered[\"event_encoded\"].values, dtype=float)\n",
    "olsres = sm.OLS(y, x).fit()\n",
    "ypred = olsres.predict(x)\n",
    "x2 = np.array(df_prediction[\"starttime\"].values, dtype=float)\n",
    "ynewpred = olsres.predict(x2) \n",
    "df_prediction[\"event_OLS\"] = ynewpred\n",
    "print(df_prediction)"
   ]
  }
 ],
 "metadata": {
  "colab": {
   "name": "Models - DBL",
   "provenance": []
  },
  "kernelspec": {
   "display_name": "Python 3",
   "language": "python",
   "name": "python3"
  },
  "language_info": {
   "codemirror_mode": {
    "name": "ipython",
    "version": 3
   },
   "file_extension": ".py",
   "mimetype": "text/x-python",
   "name": "python",
   "nbconvert_exporter": "python",
   "pygments_lexer": "ipython3",
   "version": "3.7.6"
  }
 },
 "nbformat": 4,
 "nbformat_minor": 1
}
