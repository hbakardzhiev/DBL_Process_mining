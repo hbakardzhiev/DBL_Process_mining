{
 "cells": [
  {
   "cell_type": "code",
   "execution_count": 1,
   "id": "e5698d87",
   "metadata": {},
   "outputs": [],
   "source": [
    "def normalize(df_name, col_name):\n",
    "    col_as_array = df_name[col_name].to_numpy()\n",
    "    col_as_array = np.where(col_as_array == 0, 0.01, col_as_array)\n",
    "    col_as_array_norm = np.log10(col_as_array)\n",
    "    mean = col_as_array_norm.mean()\n",
    "    stdev = col_as_array_norm.std()\n",
    "    epsilon = 0.01\n",
    "    return (col_as_array_norm - mean) / (stdev + epsilon)"
   ]
  },
  {
   "cell_type": "code",
   "execution_count": 2,
   "id": "3cbf7c11",
   "metadata": {},
   "outputs": [],
   "source": [
    "def prepfeatures(df_name):\n",
    "    event = df_name['enc_event'].to_numpy()\n",
    "    event = event.reshape(-1,1)\n",
    "    \n",
    "    duration = normalize(df_name,'duration')\n",
    "    startTime = normalize(df_name,'UNIX_starttime')\n",
    "    weekday = df_name['weekday'].to_numpy()\n",
    "    \n",
    "    prev_event = df_name['prev_event'].to_numpy()\n",
    "    prev_event = prev_event.reshape(-1,1)\n",
    "    prev_event = ordinal_encoder.fit_transform(prev_event)\n",
    "    \n",
    "    features = []\n",
    "    for i in range(len(event)):\n",
    "        current = event[i]\n",
    "        current = np.append(current,duration[i])\n",
    "        current = np.append(current,startTime[i])\n",
    "        current = np.append(current,prev_event[i])\n",
    "        current = np.append(current,weekday[i])\n",
    "        features.append(current)\n",
    "        \n",
    "    return np.array(features)"
   ]
  },
  {
   "cell_type": "code",
   "execution_count": null,
   "id": "b50e3d59",
   "metadata": {},
   "outputs": [],
   "source": [
    "def preplabels(df_name):\n",
    "    labels = df_name['next_event'].to_numpy()\n",
    "    labels = label_encoder.fit_transform(labels)\n",
    "    labels = labels.reshape(-1, 1)\n",
    "    \n",
    "    return np.array(labels)"
   ]
  },
  {
   "cell_type": "code",
   "execution_count": null,
   "id": "327f4a4b",
   "metadata": {},
   "outputs": [],
   "source": [
    "features = prepfeatures(train)\n",
    "labels = preplabels(train)"
   ]
  },
  {
   "cell_type": "code",
   "execution_count": null,
   "id": "d21af03b",
   "metadata": {},
   "outputs": [],
   "source": [
    "model = keras.Sequential([\n",
    "    keras.layers.Flatten(input_shape=(5,)),\n",
    "    keras.layers.Dense(10, activation='softplus'),\n",
    "    keras.layers.Dense(15, activation='softplus'),\n",
    "    keras.layers.Dense(20, activation='softplus'),\n",
    "    keras.layers.Dropout(1/20),\n",
    "    keras.layers.Dense(25, activation='softplus'),\n",
    "    keras.layers.Dense(30, activation='softplus'),\n",
    "    keras.layers.Dropout(1/30),\n",
    "    keras.layers.Dense(35, activation='softplus'),\n",
    "    keras.layers.Dense(42, activation='softplus')\n",
    "])\n",
    "\n",
    "model.compile(optimizer='Adam',loss='sparse_categorical_crossentropy',metrics=['accuracy'])"
   ]
  },
  {
   "cell_type": "code",
   "execution_count": 3,
   "id": "c3ab253f",
   "metadata": {},
   "outputs": [
    {
     "ename": "NameError",
     "evalue": "name 'model' is not defined",
     "output_type": "error",
     "traceback": [
      "\u001b[1;31m---------------------------------------------------------------------------\u001b[0m",
      "\u001b[1;31mNameError\u001b[0m                                 Traceback (most recent call last)",
      "Input \u001b[1;32mIn [3]\u001b[0m, in \u001b[0;36m<module>\u001b[1;34m\u001b[0m\n\u001b[1;32m----> 1\u001b[0m \u001b[43mmodel\u001b[49m\u001b[38;5;241m.\u001b[39mfit(features,labels,epochs\u001b[38;5;241m=\u001b[39m\u001b[38;5;241m5\u001b[39m,verbose\u001b[38;5;241m=\u001b[39m\u001b[38;5;241m1\u001b[39m)\n",
      "\u001b[1;31mNameError\u001b[0m: name 'model' is not defined"
     ]
    }
   ],
   "source": [
    "model.fit(features,labels,epochs=5,verbose=1)"
   ]
  },
  {
   "cell_type": "code",
   "execution_count": null,
   "id": "d7b59bf3",
   "metadata": {},
   "outputs": [],
   "source": [
    "features_test = prepfeatures(test)\n",
    "labels_test = preplabels(test)"
   ]
  },
  {
   "cell_type": "code",
   "execution_count": null,
   "id": "6baa8933",
   "metadata": {},
   "outputs": [],
   "source": [
    "test['neuralnet_event'] = model.predict(features_test)"
   ]
  },
  {
   "cell_type": "code",
   "execution_count": null,
   "id": "63fd4fe9",
   "metadata": {},
   "outputs": [],
   "source": [
    "def prepfeatures_OLS(df_name):\n",
    "    startTime = pd.to_datetime(df_name['startTime'])\n",
    "    \n",
    "    for i in range(len(startTime)):\n",
    "        startTime[i] = startTime[i].timestamp()\n",
    "        \n",
    "    startTime = np.array(startTime).reshape(-1,1)\n",
    "    \n",
    "    event = df_name['event'].to_numpy()\n",
    "    event = event.reshape(-1,1)\n",
    "    event = ordinal_encoder.fit_transform(event)\n",
    "    \n",
    "    #payment_actual0 = normalize(df_name,'payment_actual0')\n",
    "    #penalty_amount0 = normalize(df_name,'penalty_amount0')\n",
    "    #number_parcels = normalize(df_name,'number_parcels')\n",
    "    #area = normalize(df_name,'area')\n",
    "    payment_actual0 = df_name['payment_actual0'].to_numpy()\n",
    "    penalty_amount0 = df_name['penalty_amount0'].to_numpy()\n",
    "    number_parcels = df_name['number_parcels'].to_numpy()\n",
    "    area = df_name['area'].to_numpy()\n",
    "    \n",
    "    X = []\n",
    "    for i in range(len(event)):\n",
    "        current = startTime[i]\n",
    "        current = np.append(current, event[i])\n",
    "        current = np.append(current, payment_actual0[i])\n",
    "        current = np.append(current, penalty_amount0[i])\n",
    "        current = np.append(current, number_parcels[i])\n",
    "        current = np.append(current, area[i])\n",
    "        X.append(current)\n",
    "        \n",
    "    return np.array(X, dtype=float)"
   ]
  },
  {
   "cell_type": "code",
   "execution_count": null,
   "id": "6457f3e4",
   "metadata": {},
   "outputs": [],
   "source": [
    "def preplabels_OLS(df_name):\n",
    "    duration = df_name['duration'].to_numpy()\n",
    "    return np.array(duration, dtype=float)"
   ]
  },
  {
   "cell_type": "code",
   "execution_count": null,
   "id": "1221aecf",
   "metadata": {},
   "outputs": [],
   "source": [
    "X = prepfeatures_OLS(train)"
   ]
  },
  {
   "cell_type": "code",
   "execution_count": null,
   "id": "5e86740a",
   "metadata": {},
   "outputs": [],
   "source": [
    "y = preplabels_OLS(train)"
   ]
  },
  {
   "cell_type": "code",
   "execution_count": null,
   "id": "46826d6b",
   "metadata": {},
   "outputs": [],
   "source": [
    "huber = HuberRegressor().fit(X, y)"
   ]
  },
  {
   "cell_type": "code",
   "execution_count": null,
   "id": "5939d37f",
   "metadata": {},
   "outputs": [],
   "source": [
    "X_test = prepfeatures_OLS(test)"
   ]
  },
  {
   "cell_type": "code",
   "execution_count": null,
   "id": "0b6145ba",
   "metadata": {},
   "outputs": [],
   "source": [
    "test['regression_duration'] = huber.predict(X_test)"
   ]
  },
  {
   "cell_type": "code",
   "execution_count": null,
   "id": "fafbd104",
   "metadata": {},
   "outputs": [],
   "source": [
    "test['error'] = np.absolute(test['duration'] - test['regression_duration'])"
   ]
  },
  {
   "cell_type": "code",
   "execution_count": null,
   "id": "47f59184",
   "metadata": {},
   "outputs": [],
   "source": [
    "test['error'].mean()"
   ]
  }
 ],
 "metadata": {
  "kernelspec": {
   "display_name": "Python 3 (ipykernel)",
   "language": "python",
   "name": "python3"
  },
  "language_info": {
   "codemirror_mode": {
    "name": "ipython",
    "version": 3
   },
   "file_extension": ".py",
   "mimetype": "text/x-python",
   "name": "python",
   "nbconvert_exporter": "python",
   "pygments_lexer": "ipython3",
   "version": "3.10.2"
  }
 },
 "nbformat": 4,
 "nbformat_minor": 5
}
