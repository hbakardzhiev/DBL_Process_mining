{
 "cells": [
  {
   "cell_type": "code",
   "execution_count": null,
   "metadata": {},
   "outputs": [],
   "source": [
    "#new baseline \n",
    "data_baseline= data_next_event.copy()\n",
    "\n",
    "@jit(parallel = True)\n",
    "def calculator_pos(case):\n",
    "    res = np.empty(len(case), dtype=object)\n",
    "    idx = 0\n",
    "    count=1\n",
    "    for _ in case:\n",
    "        if (idx+1 >= len(case)):\n",
    "            break\n",
    "       \n",
    "        if (case[idx] == case[idx-1]):\n",
    "            count+=1\n",
    "            res[idx] = count\n",
    "            \n",
    "        else:\n",
    "            count=1\n",
    "            res[idx]=count\n",
    "\n",
    "        idx+=1\n",
    "    res[-1]=count+1\n",
    "    return res\n",
    "\n",
    "data_baseline[\"pos\"] = calculator_pos(data_baseline['case'].values)\n",
    "\n",
    "pop=data_baseline.sort_values(by='pos')\n",
    "pop['eventnum']=pop['event'].map(event_to_num)\n",
    "pop2=pop.set_index('pos')\n",
    "pop3=pop[['pos','eventnum']]\n",
    "pop4=pop3.groupby(['pos', 'eventnum']).apply(pd.DataFrame.mode).reset_index(drop=True)\n",
    "pop5=pop4.drop_duplicates(subset='pos')\n",
    "ptenum= dict(zip(pop5.pos, pop5.eventnum))\n",
    "num_to_event = {value:key for key, value in event_to_num.items()}\n",
    "data_baseline['predicted_event_num'] = (data_baseline['pos']+1).map(ptenum)\n",
    "data_baseline['predicted_event']=data_baseline['predicted_event_num'].map(num_to_event)\n",
    "data_baseline_final=data_baseline.drop(['predicted_event_num'],axis=1)\n",
    "data_baseline_final['predicted_time']=df_predicted_time['predicted_time']\n",
    "data_baseline_final\n",
    "\n",
    "next_task=[]\n",
    "predicted_event=[]\n",
    "for event in data_baseline_final['next_task']:\n",
    "    next_task.append(str(event))\n",
    "    \n",
    "\n",
    "for case in data_baseline_final['predicted_event']:\n",
    "    predicted_event.append(str(case))\n",
    "\n",
    "accuracy_score(next_task,predicted_event)"
   ]
  }
 ],
 "metadata": {
  "kernelspec": {
   "display_name": "Python 3",
   "language": "python",
   "name": "python3"
  },
  "language_info": {
   "codemirror_mode": {
    "name": "ipython",
    "version": 3
   },
   "file_extension": ".py",
   "mimetype": "text/x-python",
   "name": "python",
   "nbconvert_exporter": "python",
   "pygments_lexer": "ipython3",
   "version": "3.7.6"
  }
 },
 "nbformat": 4,
 "nbformat_minor": 4
}
