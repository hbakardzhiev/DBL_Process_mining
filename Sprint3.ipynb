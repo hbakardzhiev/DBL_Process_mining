{
  "cells": [
    {
      "cell_type": "code",
      "execution_count": 2,
      "metadata": {
        "id": "UmdfWoy1vjN9"
      },
      "outputs": [],
      "source": [
        "import os\n",
        "import psutil\n",
        "import numpy as np  # import auxiliary library, typical idiom\n",
        "import pandas as pd  # import the Pandas library, typical idiom\n",
        "from pandas import read_csv\n",
        "import statsmodels.api as sm\n",
        "import time\n",
        "import pm4py\n",
        "from datetime import datetime\n",
        "from datetime import date\n",
        "from datetime import datetime\n",
        "from datetime import timedelta\n",
        "\n",
        "from numba import jit\n",
        "\n",
        "from sklearn.linear_model import LinearRegression  # for linear regression\n",
        "from sklearn import linear_model\n",
        "from sklearn.cluster import KMeans  # for clustering\n",
        "from sklearn.tree import DecisionTreeClassifier  # for decision tree mining\n",
        "from sklearn.metrics import mean_absolute_error, confusion_matrix, mean_squared_error, r2_score\n",
        "from sklearn.model_selection import train_test_split\n",
        "\n",
        "%matplotlib inline\n",
        "import seaborn as sns\n",
        "import matplotlib.pyplot as plt\n",
        "import statsmodels.formula.api as smf \n",
        "import statsmodels.api as sm\n",
        "from statsmodels.graphics.gofplots import ProbPlot\n",
        "from matplotlib import pyplot\n",
        "from sklearn.preprocessing import OrdinalEncoder, LabelEncoder\n",
        "from sklearn.metrics import accuracy_score\n",
        "\n",
        "from sklearn.ensemble import RandomForestClassifier \n",
        "from sklearn.tree import DecisionTreeClassifier\n",
        "from sklearn.metrics import accuracy_score\n",
        "from sklearn.pipeline import Pipeline\n",
        "from sklearn.svm import LinearSVC\n",
        "from sklearn.feature_selection import SelectFromModel"
      ]
    },
    {
      "cell_type": "code",
      "execution_count": 3,
      "metadata": {
        "id": "qwzwRVG_vhqh"
      },
      "outputs": [],
      "source": [
        "file_export = 'export2018.csv'\n",
        "data = pd.read_csv(file_export)"
      ]
    },
    {
      "cell_type": "markdown",
      "metadata": {
        "id": "mYVm3bvcETx5"
      },
      "source": [
        "# Pre-processing"
      ]
    },
    {
      "cell_type": "markdown",
      "metadata": {
        "id": "0_zL5ww6aO1w"
      },
      "source": [
        "Pre-processing\n",
        "* Visualization\n",
        "1. Unix time\n",
        "2. Encoding of categorical features\n",
        "3. Temporal ordering\n",
        "4. Aditional features:\n",
        "- Previous event\n",
        "- Next event\n",
        "- Day of the week\n",
        "- Time of day\n",
        "- Event duration\n",
        "5. Separate 80-20 \n",
        "- Visualization\n",
        "6. Get rid of overlap"
      ]
    },
    {
      "cell_type": "code",
      "execution_count": 4,
      "metadata": {
        "id": "Ce6x4-68AYCp"
      },
      "outputs": [],
      "source": [
        "data = data.sort_values(by=['case','startTime'])"
      ]
    },
    {
      "cell_type": "code",
      "execution_count": 5,
      "metadata": {
        "id": "UkLk7PX7CvL4"
      },
      "outputs": [
        {
          "name": "stderr",
          "output_type": "stream",
          "text": [
            "C:\\Users\\chbak\\AppData\\Local\\Temp/ipykernel_13944/696655479.py:2: NumbaWarning: \u001b[1m\n",
            "Compilation is falling back to object mode WITH looplifting enabled because Function \"calculator_nb\" failed type inference due to: \u001b[1mUntyped global name 'object':\u001b[0m \u001b[1m\u001b[1mCannot determine Numba type of <class 'type'>\u001b[0m\n",
            "\u001b[1m\n",
            "File \"..\\..\\..\\AppData\\Local\\Temp\\ipykernel_13944\\696655479.py\", line 4:\u001b[0m\n",
            "\u001b[1m<source missing, REPL/exec in use?>\u001b[0m\n",
            "\u001b[0m\u001b[0m\n",
            "  @jit(parallel = True)\n",
            "C:\\Users\\chbak\\AppData\\Local\\Temp/ipykernel_13944/696655479.py:2: NumbaWarning: \u001b[1m\n",
            "Compilation is falling back to object mode WITHOUT looplifting enabled because Function \"calculator_nb\" failed type inference due to: \u001b[1mUntyped global name 'object':\u001b[0m \u001b[1m\u001b[1mCannot determine Numba type of <class 'type'>\u001b[0m\n",
            "\u001b[1m\n",
            "File \"..\\..\\..\\AppData\\Local\\Temp\\ipykernel_13944\\696655479.py\", line 4:\u001b[0m\n",
            "\u001b[1m<source missing, REPL/exec in use?>\u001b[0m\n",
            "\u001b[0m\u001b[0m\n",
            "  @jit(parallel = True)\n",
            "C:\\Python310\\lib\\site-packages\\numba\\core\\object_mode_passes.py:151: NumbaWarning: \u001b[1mFunction \"calculator_nb\" was compiled in object mode without forceobj=True, but has lifted loops.\n",
            "\u001b[1m\n",
            "File \"..\\..\\..\\AppData\\Local\\Temp\\ipykernel_13944\\696655479.py\", line 4:\u001b[0m\n",
            "\u001b[1m<source missing, REPL/exec in use?>\u001b[0m\n",
            "\u001b[0m\n",
            "  warnings.warn(errors.NumbaWarning(warn_msg,\n",
            "C:\\Python310\\lib\\site-packages\\numba\\core\\object_mode_passes.py:161: NumbaDeprecationWarning: \u001b[1m\n",
            "Fall-back from the nopython compilation path to the object mode compilation path has been detected, this is deprecated behaviour.\n",
            "\n",
            "For more information visit https://numba.readthedocs.io/en/stable/reference/deprecation.html#deprecation-of-object-mode-fall-back-behaviour-when-using-jit\n",
            "\u001b[1m\n",
            "File \"..\\..\\..\\AppData\\Local\\Temp\\ipykernel_13944\\696655479.py\", line 4:\u001b[0m\n",
            "\u001b[1m<source missing, REPL/exec in use?>\u001b[0m\n",
            "\u001b[0m\n",
            "  warnings.warn(errors.NumbaDeprecationWarning(msg,\n",
            "C:\\Users\\chbak\\AppData\\Local\\Temp/ipykernel_13944/696655479.py:2: NumbaWarning: \u001b[1m\n",
            "Compilation is falling back to object mode WITHOUT looplifting enabled because Function \"calculator_nb\" failed type inference due to: \u001b[1m\u001b[1mnon-precise type array(pyobject, 1d, C)\u001b[0m\n",
            "\u001b[0m\u001b[1mDuring: typing of argument at C:\\Users\\chbak\\AppData\\Local\\Temp/ipykernel_13944/696655479.py (6)\u001b[0m\n",
            "\u001b[1m\n",
            "File \"..\\..\\..\\AppData\\Local\\Temp\\ipykernel_13944\\696655479.py\", line 6:\u001b[0m\n",
            "\u001b[1m<source missing, REPL/exec in use?>\u001b[0m\n",
            "\u001b[0m\n",
            "  @jit(parallel = True)\n",
            "C:\\Python310\\lib\\site-packages\\numba\\core\\object_mode_passes.py:151: NumbaWarning: \u001b[1mFunction \"calculator_nb\" was compiled in object mode without forceobj=True.\n",
            "\u001b[1m\n",
            "File \"..\\..\\..\\AppData\\Local\\Temp\\ipykernel_13944\\696655479.py\", line 6:\u001b[0m\n",
            "\u001b[1m<source missing, REPL/exec in use?>\u001b[0m\n",
            "\u001b[0m\n",
            "  warnings.warn(errors.NumbaWarning(warn_msg,\n",
            "C:\\Python310\\lib\\site-packages\\numba\\core\\object_mode_passes.py:161: NumbaDeprecationWarning: \u001b[1m\n",
            "Fall-back from the nopython compilation path to the object mode compilation path has been detected, this is deprecated behaviour.\n",
            "\n",
            "For more information visit https://numba.readthedocs.io/en/stable/reference/deprecation.html#deprecation-of-object-mode-fall-back-behaviour-when-using-jit\n",
            "\u001b[1m\n",
            "File \"..\\..\\..\\AppData\\Local\\Temp\\ipykernel_13944\\696655479.py\", line 6:\u001b[0m\n",
            "\u001b[1m<source missing, REPL/exec in use?>\u001b[0m\n",
            "\u001b[0m\n",
            "  warnings.warn(errors.NumbaDeprecationWarning(msg,\n"
          ]
        }
      ],
      "source": [
        "#Duration\n",
        "@jit(parallel = True)\n",
        "def calculator_nb(case, startTime):\n",
        "    res = np.empty(len(case), dtype=object)\n",
        "    idx = 0\n",
        "    for _ in case:\n",
        "        if (idx+1 >= len(case)):\n",
        "            break\n",
        "\n",
        "        if (case[idx + 1] == case[idx]):\n",
        "            res[idx] = startTime[idx + 1]\n",
        "        else:\n",
        "            res[idx] = startTime[idx]\n",
        "\n",
        "        idx+=1\n",
        "    return res\n",
        "\n",
        "data['completeTime'] = calculator_nb(data['case'].values, data['startTime'].values)\n",
        "data.at[317373, 'completeTime'] = data.at[317373, 'startTime']\n",
        "\n",
        "data['startTime'] =  pd.to_datetime(data['startTime'])\n",
        "data['completeTime'] =  pd.to_datetime(data['completeTime'])\n",
        "data['duration'] = data['completeTime'] - data['startTime']\n",
        "#to turn duration into seconds:\n",
        "duration = data['duration']\n",
        "duration = duration / np.timedelta64(1, 's')\n",
        "data['duration'] = duration"
      ]
    },
    {
      "cell_type": "code",
      "execution_count": 6,
      "metadata": {
        "id": "qyyc-XNsAYCr"
      },
      "outputs": [
        {
          "name": "stderr",
          "output_type": "stream",
          "text": [
            "C:\\Users\\chbak\\AppData\\Local\\Temp/ipykernel_13944/1360192189.py:2: NumbaWarning: \u001b[1m\n",
            "Compilation is falling back to object mode WITH looplifting enabled because Function \"calculator_nb\" failed type inference due to: \u001b[1mUntyped global name 'object':\u001b[0m \u001b[1m\u001b[1mCannot determine Numba type of <class 'type'>\u001b[0m\n",
            "\u001b[1m\n",
            "File \"..\\..\\..\\AppData\\Local\\Temp\\ipykernel_13944\\1360192189.py\", line 4:\u001b[0m\n",
            "\u001b[1m<source missing, REPL/exec in use?>\u001b[0m\n",
            "\u001b[0m\u001b[0m\n",
            "  @jit(parallel = True)\n",
            "C:\\Users\\chbak\\AppData\\Local\\Temp/ipykernel_13944/1360192189.py:2: NumbaWarning: \u001b[1m\n",
            "Compilation is falling back to object mode WITHOUT looplifting enabled because Function \"calculator_nb\" failed type inference due to: \u001b[1mUntyped global name 'object':\u001b[0m \u001b[1m\u001b[1mCannot determine Numba type of <class 'type'>\u001b[0m\n",
            "\u001b[1m\n",
            "File \"..\\..\\..\\AppData\\Local\\Temp\\ipykernel_13944\\1360192189.py\", line 4:\u001b[0m\n",
            "\u001b[1m<source missing, REPL/exec in use?>\u001b[0m\n",
            "\u001b[0m\u001b[0m\n",
            "  @jit(parallel = True)\n",
            "C:\\Python310\\lib\\site-packages\\numba\\core\\object_mode_passes.py:151: NumbaWarning: \u001b[1mFunction \"calculator_nb\" was compiled in object mode without forceobj=True, but has lifted loops.\n",
            "\u001b[1m\n",
            "File \"..\\..\\..\\AppData\\Local\\Temp\\ipykernel_13944\\1360192189.py\", line 4:\u001b[0m\n",
            "\u001b[1m<source missing, REPL/exec in use?>\u001b[0m\n",
            "\u001b[0m\n",
            "  warnings.warn(errors.NumbaWarning(warn_msg,\n",
            "C:\\Python310\\lib\\site-packages\\numba\\core\\object_mode_passes.py:161: NumbaDeprecationWarning: \u001b[1m\n",
            "Fall-back from the nopython compilation path to the object mode compilation path has been detected, this is deprecated behaviour.\n",
            "\n",
            "For more information visit https://numba.readthedocs.io/en/stable/reference/deprecation.html#deprecation-of-object-mode-fall-back-behaviour-when-using-jit\n",
            "\u001b[1m\n",
            "File \"..\\..\\..\\AppData\\Local\\Temp\\ipykernel_13944\\1360192189.py\", line 4:\u001b[0m\n",
            "\u001b[1m<source missing, REPL/exec in use?>\u001b[0m\n",
            "\u001b[0m\n",
            "  warnings.warn(errors.NumbaDeprecationWarning(msg,\n",
            "C:\\Users\\chbak\\AppData\\Local\\Temp/ipykernel_13944/1360192189.py:2: NumbaWarning: \u001b[1m\n",
            "Compilation is falling back to object mode WITHOUT looplifting enabled because Function \"calculator_nb\" failed type inference due to: \u001b[1m\u001b[1mnon-precise type array(pyobject, 1d, C)\u001b[0m\n",
            "\u001b[0m\u001b[1mDuring: typing of argument at C:\\Users\\chbak\\AppData\\Local\\Temp/ipykernel_13944/1360192189.py (6)\u001b[0m\n",
            "\u001b[1m\n",
            "File \"..\\..\\..\\AppData\\Local\\Temp\\ipykernel_13944\\1360192189.py\", line 6:\u001b[0m\n",
            "\u001b[1m<source missing, REPL/exec in use?>\u001b[0m\n",
            "\u001b[0m\n",
            "  @jit(parallel = True)\n",
            "C:\\Python310\\lib\\site-packages\\numba\\core\\object_mode_passes.py:151: NumbaWarning: \u001b[1mFunction \"calculator_nb\" was compiled in object mode without forceobj=True.\n",
            "\u001b[1m\n",
            "File \"..\\..\\..\\AppData\\Local\\Temp\\ipykernel_13944\\1360192189.py\", line 6:\u001b[0m\n",
            "\u001b[1m<source missing, REPL/exec in use?>\u001b[0m\n",
            "\u001b[0m\n",
            "  warnings.warn(errors.NumbaWarning(warn_msg,\n",
            "C:\\Python310\\lib\\site-packages\\numba\\core\\object_mode_passes.py:161: NumbaDeprecationWarning: \u001b[1m\n",
            "Fall-back from the nopython compilation path to the object mode compilation path has been detected, this is deprecated behaviour.\n",
            "\n",
            "For more information visit https://numba.readthedocs.io/en/stable/reference/deprecation.html#deprecation-of-object-mode-fall-back-behaviour-when-using-jit\n",
            "\u001b[1m\n",
            "File \"..\\..\\..\\AppData\\Local\\Temp\\ipykernel_13944\\1360192189.py\", line 6:\u001b[0m\n",
            "\u001b[1m<source missing, REPL/exec in use?>\u001b[0m\n",
            "\u001b[0m\n",
            "  warnings.warn(errors.NumbaDeprecationWarning(msg,\n"
          ]
        }
      ],
      "source": [
        "#Next event\n",
        "@jit(parallel = True)\n",
        "def calculator_nb(case, event):\n",
        "    res = np.empty(len(case), dtype=object)\n",
        "    idx = 0\n",
        "    for _ in case:\n",
        "        if (idx+1 >= len(case)):\n",
        "            break\n",
        "       \n",
        "        if (case[idx + 1] == case[idx]):\n",
        "            res[idx] = event[idx + 1]\n",
        "\n",
        "        idx+=1\n",
        "    return res\n",
        "\n",
        "data['next_event'] = calculator_nb(data['case'].values, data['event'].values)"
      ]
    },
    {
      "cell_type": "code",
      "execution_count": 7,
      "metadata": {
        "id": "VxseoX0JAYCr"
      },
      "outputs": [
        {
          "name": "stderr",
          "output_type": "stream",
          "text": [
            "C:\\Users\\chbak\\AppData\\Local\\Temp/ipykernel_13944/1972138414.py:2: NumbaWarning: \u001b[1m\n",
            "Compilation is falling back to object mode WITH looplifting enabled because Function \"calculator_nb\" failed type inference due to: \u001b[1mUntyped global name 'object':\u001b[0m \u001b[1m\u001b[1mCannot determine Numba type of <class 'type'>\u001b[0m\n",
            "\u001b[1m\n",
            "File \"..\\..\\..\\AppData\\Local\\Temp\\ipykernel_13944\\1972138414.py\", line 4:\u001b[0m\n",
            "\u001b[1m<source missing, REPL/exec in use?>\u001b[0m\n",
            "\u001b[0m\u001b[0m\n",
            "  @jit(parallel = True)\n",
            "C:\\Users\\chbak\\AppData\\Local\\Temp/ipykernel_13944/1972138414.py:2: NumbaWarning: \u001b[1m\n",
            "Compilation is falling back to object mode WITHOUT looplifting enabled because Function \"calculator_nb\" failed type inference due to: \u001b[1mUntyped global name 'object':\u001b[0m \u001b[1m\u001b[1mCannot determine Numba type of <class 'type'>\u001b[0m\n",
            "\u001b[1m\n",
            "File \"..\\..\\..\\AppData\\Local\\Temp\\ipykernel_13944\\1972138414.py\", line 4:\u001b[0m\n",
            "\u001b[1m<source missing, REPL/exec in use?>\u001b[0m\n",
            "\u001b[0m\u001b[0m\n",
            "  @jit(parallel = True)\n",
            "C:\\Python310\\lib\\site-packages\\numba\\core\\object_mode_passes.py:151: NumbaWarning: \u001b[1mFunction \"calculator_nb\" was compiled in object mode without forceobj=True, but has lifted loops.\n",
            "\u001b[1m\n",
            "File \"..\\..\\..\\AppData\\Local\\Temp\\ipykernel_13944\\1972138414.py\", line 4:\u001b[0m\n",
            "\u001b[1m<source missing, REPL/exec in use?>\u001b[0m\n",
            "\u001b[0m\n",
            "  warnings.warn(errors.NumbaWarning(warn_msg,\n",
            "C:\\Python310\\lib\\site-packages\\numba\\core\\object_mode_passes.py:161: NumbaDeprecationWarning: \u001b[1m\n",
            "Fall-back from the nopython compilation path to the object mode compilation path has been detected, this is deprecated behaviour.\n",
            "\n",
            "For more information visit https://numba.readthedocs.io/en/stable/reference/deprecation.html#deprecation-of-object-mode-fall-back-behaviour-when-using-jit\n",
            "\u001b[1m\n",
            "File \"..\\..\\..\\AppData\\Local\\Temp\\ipykernel_13944\\1972138414.py\", line 4:\u001b[0m\n",
            "\u001b[1m<source missing, REPL/exec in use?>\u001b[0m\n",
            "\u001b[0m\n",
            "  warnings.warn(errors.NumbaDeprecationWarning(msg,\n",
            "C:\\Users\\chbak\\AppData\\Local\\Temp/ipykernel_13944/1972138414.py:2: NumbaWarning: \u001b[1m\n",
            "Compilation is falling back to object mode WITHOUT looplifting enabled because Function \"calculator_nb\" failed type inference due to: \u001b[1m\u001b[1mnon-precise type array(pyobject, 1d, C)\u001b[0m\n",
            "\u001b[0m\u001b[1mDuring: typing of argument at C:\\Users\\chbak\\AppData\\Local\\Temp/ipykernel_13944/1972138414.py (6)\u001b[0m\n",
            "\u001b[1m\n",
            "File \"..\\..\\..\\AppData\\Local\\Temp\\ipykernel_13944\\1972138414.py\", line 6:\u001b[0m\n",
            "\u001b[1m<source missing, REPL/exec in use?>\u001b[0m\n",
            "\u001b[0m\n",
            "  @jit(parallel = True)\n",
            "C:\\Python310\\lib\\site-packages\\numba\\core\\object_mode_passes.py:151: NumbaWarning: \u001b[1mFunction \"calculator_nb\" was compiled in object mode without forceobj=True.\n",
            "\u001b[1m\n",
            "File \"..\\..\\..\\AppData\\Local\\Temp\\ipykernel_13944\\1972138414.py\", line 6:\u001b[0m\n",
            "\u001b[1m<source missing, REPL/exec in use?>\u001b[0m\n",
            "\u001b[0m\n",
            "  warnings.warn(errors.NumbaWarning(warn_msg,\n",
            "C:\\Python310\\lib\\site-packages\\numba\\core\\object_mode_passes.py:161: NumbaDeprecationWarning: \u001b[1m\n",
            "Fall-back from the nopython compilation path to the object mode compilation path has been detected, this is deprecated behaviour.\n",
            "\n",
            "For more information visit https://numba.readthedocs.io/en/stable/reference/deprecation.html#deprecation-of-object-mode-fall-back-behaviour-when-using-jit\n",
            "\u001b[1m\n",
            "File \"..\\..\\..\\AppData\\Local\\Temp\\ipykernel_13944\\1972138414.py\", line 6:\u001b[0m\n",
            "\u001b[1m<source missing, REPL/exec in use?>\u001b[0m\n",
            "\u001b[0m\n",
            "  warnings.warn(errors.NumbaDeprecationWarning(msg,\n"
          ]
        }
      ],
      "source": [
        "#Previous event\n",
        "@jit(parallel = True)\n",
        "def calculator_nb(case, event):\n",
        "    res = np.empty(len(case), dtype=object)\n",
        "    idx = 0\n",
        "    for _ in case:\n",
        "        if (idx+1 >= len(case)):\n",
        "            break\n",
        "       \n",
        "        if (case[idx + 1] == case[idx]):\n",
        "            res[idx + 1] = event[idx]\n",
        "\n",
        "        idx+=1\n",
        "    return res\n",
        "\n",
        "data['prev_event'] = calculator_nb(data['case'].values, data['event'].values)"
      ]
    },
    {
      "cell_type": "code",
      "execution_count": 8,
      "metadata": {
        "id": "lseT5ybaAYCs"
      },
      "outputs": [],
      "source": [
        "#Removing null values\n",
        "data['next_event'] = data['next_event'].fillna(value='None')\n",
        "data['prev_event'] = data['prev_event'].fillna(value='None')"
      ]
    },
    {
      "cell_type": "code",
      "execution_count": 9,
      "metadata": {
        "id": "EK0yT10d4erc"
      },
      "outputs": [],
      "source": [
        "#unix time\n",
        "pd.set_option('display.float_format', lambda x: '%.3f' % x)\n",
        "\n",
        "data['startTime'] = pd.to_datetime(data['startTime'], dayfirst=True)\n",
        "unixTransform = lambda x: time.mktime(x.timetuple())\n",
        "data[\"UNIX_starttime\"] = data[\"startTime\"].apply(unixTransform).astype(int)\n",
        "\n",
        "data['completeTime'] = pd.to_datetime(data['completeTime'], dayfirst=True)\n",
        "unixTransform = lambda x: time.mktime(x.timetuple())\n",
        "data[\"UNIX_completeTime\"] = data[\"completeTime\"].apply(unixTransform).astype(int)\n",
        "\n",
        "#data['REG_DATE'] = pd.to_datetime(data['REG_DATE'], dayfirst=True)\n",
        "#unixTransform = lambda x: time.mktime(x.timetuple())\n",
        "#data[\"UNIX_REG_DATE\"] = data[\"REG_DATE\"].apply(unixTransform).astype(int)\n",
        "\n",
        "#print(data)"
      ]
    },
    {
      "cell_type": "code",
      "execution_count": 10,
      "metadata": {
        "id": "7YGUvDZrAYCt"
      },
      "outputs": [],
      "source": [
        "#Day of the week\n",
        "data['weekday'] = data['startTime'].dt.dayofweek"
      ]
    },
    {
      "cell_type": "code",
      "execution_count": 11,
      "metadata": {
        "id": "78FN-5HNNi4f"
      },
      "outputs": [],
      "source": [
        "#encoding of categorical data\n",
        "ordinal_encoder = OrdinalEncoder()\n",
        "label_encoder = LabelEncoder()\n",
        "data['enc_event'] = ordinal_encoder.fit_transform(data[['event']]).astype(int)"
      ]
    },
    {
      "cell_type": "code",
      "execution_count": 12,
      "metadata": {
        "id": "6l7QS1P6ndTr"
      },
      "outputs": [
        {
          "data": {
            "text/html": [
              "<div>\n",
              "<style scoped>\n",
              "    .dataframe tbody tr th:only-of-type {\n",
              "        vertical-align: middle;\n",
              "    }\n",
              "\n",
              "    .dataframe tbody tr th {\n",
              "        vertical-align: top;\n",
              "    }\n",
              "\n",
              "    .dataframe thead th {\n",
              "        text-align: right;\n",
              "    }\n",
              "</style>\n",
              "<table border=\"1\" class=\"dataframe\">\n",
              "  <thead>\n",
              "    <tr style=\"text-align: right;\">\n",
              "      <th></th>\n",
              "      <th>case</th>\n",
              "      <th>event</th>\n",
              "      <th>startTime</th>\n",
              "      <th>completeTime</th>\n",
              "      <th>penalty_JLP1</th>\n",
              "      <th>penalty_JLP3</th>\n",
              "      <th>number_parcels</th>\n",
              "      <th>penalty_JLP2</th>\n",
              "      <th>penalty_JLP5</th>\n",
              "      <th>year</th>\n",
              "      <th>...</th>\n",
              "      <th>org:resource</th>\n",
              "      <th>success</th>\n",
              "      <th>duration</th>\n",
              "      <th>next_event</th>\n",
              "      <th>prev_event</th>\n",
              "      <th>UNIX_starttime</th>\n",
              "      <th>UNIX_completeTime</th>\n",
              "      <th>weekday</th>\n",
              "      <th>enc_event</th>\n",
              "      <th>original index</th>\n",
              "    </tr>\n",
              "  </thead>\n",
              "  <tbody>\n",
              "    <tr>\n",
              "      <th>0</th>\n",
              "      <td>980452d16c80c2c3</td>\n",
              "      <td>mail valid</td>\n",
              "      <td>2014-05-04 00:00:00.000</td>\n",
              "      <td>2015-04-24 00:00:00.000</td>\n",
              "      <td>False</td>\n",
              "      <td>False</td>\n",
              "      <td>32</td>\n",
              "      <td>False</td>\n",
              "      <td>False</td>\n",
              "      <td>2015</td>\n",
              "      <td>...</td>\n",
              "      <td>0;n/a</td>\n",
              "      <td>True</td>\n",
              "      <td>30672000.000</td>\n",
              "      <td>mail income</td>\n",
              "      <td>mail valid</td>\n",
              "      <td>1399154400</td>\n",
              "      <td>1429826400</td>\n",
              "      <td>6</td>\n",
              "      <td>26</td>\n",
              "      <td>63730</td>\n",
              "    </tr>\n",
              "    <tr>\n",
              "      <th>1</th>\n",
              "      <td>980452d16c80c2c3</td>\n",
              "      <td>mail valid</td>\n",
              "      <td>2014-05-04 00:00:00.000</td>\n",
              "      <td>2014-05-04 00:00:00.000</td>\n",
              "      <td>False</td>\n",
              "      <td>False</td>\n",
              "      <td>32</td>\n",
              "      <td>False</td>\n",
              "      <td>False</td>\n",
              "      <td>2015</td>\n",
              "      <td>...</td>\n",
              "      <td>0;n/a</td>\n",
              "      <td>True</td>\n",
              "      <td>0.000</td>\n",
              "      <td>mail valid</td>\n",
              "      <td>mail valid</td>\n",
              "      <td>1399154400</td>\n",
              "      <td>1399154400</td>\n",
              "      <td>6</td>\n",
              "      <td>26</td>\n",
              "      <td>63729</td>\n",
              "    </tr>\n",
              "    <tr>\n",
              "      <th>2</th>\n",
              "      <td>cb3425ce193199d7</td>\n",
              "      <td>mail valid</td>\n",
              "      <td>2014-05-04 00:00:00.000</td>\n",
              "      <td>2014-05-04 00:00:00.000</td>\n",
              "      <td>False</td>\n",
              "      <td>False</td>\n",
              "      <td>5</td>\n",
              "      <td>False</td>\n",
              "      <td>False</td>\n",
              "      <td>2015</td>\n",
              "      <td>...</td>\n",
              "      <td>0;n/a</td>\n",
              "      <td>True</td>\n",
              "      <td>0.000</td>\n",
              "      <td>mail valid</td>\n",
              "      <td>None</td>\n",
              "      <td>1399154400</td>\n",
              "      <td>1399154400</td>\n",
              "      <td>6</td>\n",
              "      <td>26</td>\n",
              "      <td>594649</td>\n",
              "    </tr>\n",
              "    <tr>\n",
              "      <th>3</th>\n",
              "      <td>980452d16c80c2c3</td>\n",
              "      <td>mail valid</td>\n",
              "      <td>2014-05-04 00:00:00.000</td>\n",
              "      <td>2014-05-04 00:00:00.000</td>\n",
              "      <td>False</td>\n",
              "      <td>False</td>\n",
              "      <td>32</td>\n",
              "      <td>False</td>\n",
              "      <td>False</td>\n",
              "      <td>2015</td>\n",
              "      <td>...</td>\n",
              "      <td>0;n/a</td>\n",
              "      <td>True</td>\n",
              "      <td>0.000</td>\n",
              "      <td>mail valid</td>\n",
              "      <td>None</td>\n",
              "      <td>1399154400</td>\n",
              "      <td>1399154400</td>\n",
              "      <td>6</td>\n",
              "      <td>26</td>\n",
              "      <td>63727</td>\n",
              "    </tr>\n",
              "    <tr>\n",
              "      <th>4</th>\n",
              "      <td>cb3425ce193199d7</td>\n",
              "      <td>mail valid</td>\n",
              "      <td>2014-05-04 00:00:00.000</td>\n",
              "      <td>2014-05-04 00:00:00.000</td>\n",
              "      <td>False</td>\n",
              "      <td>False</td>\n",
              "      <td>5</td>\n",
              "      <td>False</td>\n",
              "      <td>False</td>\n",
              "      <td>2015</td>\n",
              "      <td>...</td>\n",
              "      <td>0;n/a</td>\n",
              "      <td>True</td>\n",
              "      <td>0.000</td>\n",
              "      <td>mail valid</td>\n",
              "      <td>mail valid</td>\n",
              "      <td>1399154400</td>\n",
              "      <td>1399154400</td>\n",
              "      <td>6</td>\n",
              "      <td>26</td>\n",
              "      <td>594651</td>\n",
              "    </tr>\n",
              "    <tr>\n",
              "      <th>...</th>\n",
              "      <td>...</td>\n",
              "      <td>...</td>\n",
              "      <td>...</td>\n",
              "      <td>...</td>\n",
              "      <td>...</td>\n",
              "      <td>...</td>\n",
              "      <td>...</td>\n",
              "      <td>...</td>\n",
              "      <td>...</td>\n",
              "      <td>...</td>\n",
              "      <td>...</td>\n",
              "      <td>...</td>\n",
              "      <td>...</td>\n",
              "      <td>...</td>\n",
              "      <td>...</td>\n",
              "      <td>...</td>\n",
              "      <td>...</td>\n",
              "      <td>...</td>\n",
              "      <td>...</td>\n",
              "      <td>...</td>\n",
              "      <td>...</td>\n",
              "    </tr>\n",
              "    <tr>\n",
              "      <th>2514261</th>\n",
              "      <td>8cd07a136f401349</td>\n",
              "      <td>calculate</td>\n",
              "      <td>2018-01-19 12:27:24.824</td>\n",
              "      <td>2018-01-19 12:27:24.824</td>\n",
              "      <td>False</td>\n",
              "      <td>False</td>\n",
              "      <td>37</td>\n",
              "      <td>False</td>\n",
              "      <td>False</td>\n",
              "      <td>2016</td>\n",
              "      <td>...</td>\n",
              "      <td>75992a</td>\n",
              "      <td>True</td>\n",
              "      <td>0.000</td>\n",
              "      <td>None</td>\n",
              "      <td>begin editing</td>\n",
              "      <td>1516361244</td>\n",
              "      <td>1516361244</td>\n",
              "      <td>4</td>\n",
              "      <td>8</td>\n",
              "      <td>1020230</td>\n",
              "    </tr>\n",
              "    <tr>\n",
              "      <th>2514262</th>\n",
              "      <td>dc56a531f5aeb3b0</td>\n",
              "      <td>save</td>\n",
              "      <td>2018-01-19 12:51:34.000</td>\n",
              "      <td>2018-01-19 12:51:34.000</td>\n",
              "      <td>False</td>\n",
              "      <td>False</td>\n",
              "      <td>49</td>\n",
              "      <td>False</td>\n",
              "      <td>False</td>\n",
              "      <td>2016</td>\n",
              "      <td>...</td>\n",
              "      <td>8d8538</td>\n",
              "      <td>True</td>\n",
              "      <td>0.000</td>\n",
              "      <td>None</td>\n",
              "      <td>finish payment</td>\n",
              "      <td>1516362694</td>\n",
              "      <td>1516362694</td>\n",
              "      <td>4</td>\n",
              "      <td>38</td>\n",
              "      <td>1553199</td>\n",
              "    </tr>\n",
              "    <tr>\n",
              "      <th>2514263</th>\n",
              "      <td>7b405bc5144c14c9</td>\n",
              "      <td>save</td>\n",
              "      <td>2018-01-19 12:57:05.000</td>\n",
              "      <td>2018-01-19 13:02:32.000</td>\n",
              "      <td>False</td>\n",
              "      <td>False</td>\n",
              "      <td>43</td>\n",
              "      <td>False</td>\n",
              "      <td>False</td>\n",
              "      <td>2016</td>\n",
              "      <td>...</td>\n",
              "      <td>8d8538</td>\n",
              "      <td>True</td>\n",
              "      <td>327.000</td>\n",
              "      <td>save</td>\n",
              "      <td>finish payment</td>\n",
              "      <td>1516363025</td>\n",
              "      <td>1516363352</td>\n",
              "      <td>4</td>\n",
              "      <td>38</td>\n",
              "      <td>1189623</td>\n",
              "    </tr>\n",
              "    <tr>\n",
              "      <th>2514264</th>\n",
              "      <td>7b405bc5144c14c9</td>\n",
              "      <td>save</td>\n",
              "      <td>2018-01-19 13:02:32.000</td>\n",
              "      <td>2018-01-19 13:02:32.000</td>\n",
              "      <td>False</td>\n",
              "      <td>False</td>\n",
              "      <td>43</td>\n",
              "      <td>False</td>\n",
              "      <td>False</td>\n",
              "      <td>2016</td>\n",
              "      <td>...</td>\n",
              "      <td>8d8538</td>\n",
              "      <td>True</td>\n",
              "      <td>0.000</td>\n",
              "      <td>None</td>\n",
              "      <td>save</td>\n",
              "      <td>1516363352</td>\n",
              "      <td>1516363352</td>\n",
              "      <td>4</td>\n",
              "      <td>38</td>\n",
              "      <td>1189624</td>\n",
              "    </tr>\n",
              "    <tr>\n",
              "      <th>2514265</th>\n",
              "      <td>4ae57656c3f23ff7</td>\n",
              "      <td>save</td>\n",
              "      <td>2018-01-19 13:03:02.000</td>\n",
              "      <td>2018-01-19 13:03:02.000</td>\n",
              "      <td>False</td>\n",
              "      <td>False</td>\n",
              "      <td>31</td>\n",
              "      <td>False</td>\n",
              "      <td>False</td>\n",
              "      <td>2016</td>\n",
              "      <td>...</td>\n",
              "      <td>8d8538</td>\n",
              "      <td>True</td>\n",
              "      <td>0.000</td>\n",
              "      <td>None</td>\n",
              "      <td>calculate</td>\n",
              "      <td>1516363382</td>\n",
              "      <td>1516363382</td>\n",
              "      <td>4</td>\n",
              "      <td>38</td>\n",
              "      <td>1054460</td>\n",
              "    </tr>\n",
              "  </tbody>\n",
              "</table>\n",
              "<p>2514266 rows × 83 columns</p>\n",
              "</div>"
            ],
            "text/plain": [
              "                     case       event               startTime  \\\n",
              "0        980452d16c80c2c3  mail valid 2014-05-04 00:00:00.000   \n",
              "1        980452d16c80c2c3  mail valid 2014-05-04 00:00:00.000   \n",
              "2        cb3425ce193199d7  mail valid 2014-05-04 00:00:00.000   \n",
              "3        980452d16c80c2c3  mail valid 2014-05-04 00:00:00.000   \n",
              "4        cb3425ce193199d7  mail valid 2014-05-04 00:00:00.000   \n",
              "...                   ...         ...                     ...   \n",
              "2514261  8cd07a136f401349   calculate 2018-01-19 12:27:24.824   \n",
              "2514262  dc56a531f5aeb3b0        save 2018-01-19 12:51:34.000   \n",
              "2514263  7b405bc5144c14c9        save 2018-01-19 12:57:05.000   \n",
              "2514264  7b405bc5144c14c9        save 2018-01-19 13:02:32.000   \n",
              "2514265  4ae57656c3f23ff7        save 2018-01-19 13:03:02.000   \n",
              "\n",
              "                   completeTime  penalty_JLP1  penalty_JLP3  number_parcels  \\\n",
              "0       2015-04-24 00:00:00.000         False         False              32   \n",
              "1       2014-05-04 00:00:00.000         False         False              32   \n",
              "2       2014-05-04 00:00:00.000         False         False               5   \n",
              "3       2014-05-04 00:00:00.000         False         False              32   \n",
              "4       2014-05-04 00:00:00.000         False         False               5   \n",
              "...                         ...           ...           ...             ...   \n",
              "2514261 2018-01-19 12:27:24.824         False         False              37   \n",
              "2514262 2018-01-19 12:51:34.000         False         False              49   \n",
              "2514263 2018-01-19 13:02:32.000         False         False              43   \n",
              "2514264 2018-01-19 13:02:32.000         False         False              43   \n",
              "2514265 2018-01-19 13:03:02.000         False         False              31   \n",
              "\n",
              "         penalty_JLP2  penalty_JLP5  year  ...  org:resource  success  \\\n",
              "0               False         False  2015  ...         0;n/a     True   \n",
              "1               False         False  2015  ...         0;n/a     True   \n",
              "2               False         False  2015  ...         0;n/a     True   \n",
              "3               False         False  2015  ...         0;n/a     True   \n",
              "4               False         False  2015  ...         0;n/a     True   \n",
              "...               ...           ...   ...  ...           ...      ...   \n",
              "2514261         False         False  2016  ...        75992a     True   \n",
              "2514262         False         False  2016  ...        8d8538     True   \n",
              "2514263         False         False  2016  ...        8d8538     True   \n",
              "2514264         False         False  2016  ...        8d8538     True   \n",
              "2514265         False         False  2016  ...        8d8538     True   \n",
              "\n",
              "            duration   next_event      prev_event  UNIX_starttime  \\\n",
              "0       30672000.000  mail income      mail valid      1399154400   \n",
              "1              0.000   mail valid      mail valid      1399154400   \n",
              "2              0.000   mail valid            None      1399154400   \n",
              "3              0.000   mail valid            None      1399154400   \n",
              "4              0.000   mail valid      mail valid      1399154400   \n",
              "...              ...          ...             ...             ...   \n",
              "2514261        0.000         None   begin editing      1516361244   \n",
              "2514262        0.000         None  finish payment      1516362694   \n",
              "2514263      327.000         save  finish payment      1516363025   \n",
              "2514264        0.000         None            save      1516363352   \n",
              "2514265        0.000         None       calculate      1516363382   \n",
              "\n",
              "         UNIX_completeTime weekday  enc_event  original index  \n",
              "0               1429826400       6         26           63730  \n",
              "1               1399154400       6         26           63729  \n",
              "2               1399154400       6         26          594649  \n",
              "3               1399154400       6         26           63727  \n",
              "4               1399154400       6         26          594651  \n",
              "...                    ...     ...        ...             ...  \n",
              "2514261         1516361244       4          8         1020230  \n",
              "2514262         1516362694       4         38         1553199  \n",
              "2514263         1516363352       4         38         1189623  \n",
              "2514264         1516363352       4         38         1189624  \n",
              "2514265         1516363382       4         38         1054460  \n",
              "\n",
              "[2514266 rows x 83 columns]"
            ]
          },
          "execution_count": 12,
          "metadata": {},
          "output_type": "execute_result"
        }
      ],
      "source": [
        "#ensure we have acces to orignal indexing to keep track of the order of events in a process\n",
        "data['original index'] = data.index\n",
        "\n",
        "#sorting on time\n",
        "data.sort_values(by = \"UNIX_starttime\", ignore_index=True)"
      ]
    },
    {
      "cell_type": "code",
      "execution_count": 13,
      "metadata": {
        "id": "P5nloqg7KspI"
      },
      "outputs": [],
      "source": [
        "#separation\n",
        "from sklearn.model_selection import train_test_split\n",
        "\n",
        "train, test = train_test_split(data, test_size=0.2, shuffle=False)"
      ]
    },
    {
      "cell_type": "code",
      "execution_count": 14,
      "metadata": {
        "id": "YDODvtbAJZad"
      },
      "outputs": [],
      "source": [
        "#removing overlap - if case is in both datasets, remove\n",
        "\n",
        "train_cases = train['case'].unique().tolist()\n",
        "test_cases = test['case'].unique().tolist()\n",
        "\n",
        "intersect_list = list(set(train_cases).intersection(test_cases))"
      ]
    },
    {
      "cell_type": "code",
      "execution_count": 15,
      "metadata": {
        "id": "T9a3TLae6Vgc"
      },
      "outputs": [],
      "source": [
        "#only removes first value in intersect list (needs modification for multiple overlaping values)\n",
        "\n",
        "#train = train[train['case'] != intersect_list[0]]\n",
        "#test = test[test['case'] != intersect_list[0]]\n",
        "\n",
        "#works for more values\n",
        "org_train = train.copy()\n",
        "org_test = test.copy()\n",
        "df_ordinal_encoder = LabelEncoder()\n",
        "train=train.apply(df_ordinal_encoder.fit_transform)\n",
        "test=test.apply(df_ordinal_encoder.fit_transform)\n",
        "\n",
        "train = train[train['case'].isin(intersect_list) == False]\n",
        "X_train_time = train.drop(columns='duration')\n",
        "Y_train_time = train[\"duration\"]\n",
        "X_train_event = train.drop(columns=[\"next_event\"])\n",
        "Y_train_event = train[\"event\"]\n",
        "\n",
        "test = test[test['case'].isin(intersect_list) == False]\n",
        "X_test_time = test.drop(columns='duration')\n",
        "Y_test_time = test[\"duration\"]\n",
        "X_test_event = test.drop(columns=['next_event'])\n",
        "Y_test_event = test[\"event\"]"
      ]
    },
    {
      "cell_type": "code",
      "execution_count": 16,
      "metadata": {
        "id": "fCxZL9hWDs33"
      },
      "outputs": [
        {
          "name": "stdout",
          "output_type": "stream",
          "text": [
            "Error in callback <function flush_figures at 0x0000014F7E50E3B0> (for post_execute):\n"
          ]
        },
        {
          "ename": "KeyboardInterrupt",
          "evalue": "",
          "output_type": "error",
          "traceback": [
            "\u001b[1;31m---------------------------------------------------------------------------\u001b[0m",
            "\u001b[1;31mKeyboardInterrupt\u001b[0m                         Traceback (most recent call last)",
            "\u001b[1;32mC:\\Python310\\lib\\site-packages\\matplotlib_inline\\backend_inline.py\u001b[0m in \u001b[0;36mflush_figures\u001b[1;34m()\u001b[0m\n\u001b[0;32m    119\u001b[0m         \u001b[1;31m# ignore the tracking, just draw and close all figures\u001b[0m\u001b[1;33m\u001b[0m\u001b[1;33m\u001b[0m\u001b[0m\n\u001b[0;32m    120\u001b[0m         \u001b[1;32mtry\u001b[0m\u001b[1;33m:\u001b[0m\u001b[1;33m\u001b[0m\u001b[1;33m\u001b[0m\u001b[0m\n\u001b[1;32m--> 121\u001b[1;33m             \u001b[1;32mreturn\u001b[0m \u001b[0mshow\u001b[0m\u001b[1;33m(\u001b[0m\u001b[1;32mTrue\u001b[0m\u001b[1;33m)\u001b[0m\u001b[1;33m\u001b[0m\u001b[1;33m\u001b[0m\u001b[0m\n\u001b[0m\u001b[0;32m    122\u001b[0m         \u001b[1;32mexcept\u001b[0m \u001b[0mException\u001b[0m \u001b[1;32mas\u001b[0m \u001b[0me\u001b[0m\u001b[1;33m:\u001b[0m\u001b[1;33m\u001b[0m\u001b[1;33m\u001b[0m\u001b[0m\n\u001b[0;32m    123\u001b[0m             \u001b[1;31m# safely show traceback if in IPython, else raise\u001b[0m\u001b[1;33m\u001b[0m\u001b[1;33m\u001b[0m\u001b[0m\n",
            "\u001b[1;32mC:\\Python310\\lib\\site-packages\\matplotlib_inline\\backend_inline.py\u001b[0m in \u001b[0;36mshow\u001b[1;34m(close, block)\u001b[0m\n\u001b[0;32m     39\u001b[0m     \u001b[1;32mtry\u001b[0m\u001b[1;33m:\u001b[0m\u001b[1;33m\u001b[0m\u001b[1;33m\u001b[0m\u001b[0m\n\u001b[0;32m     40\u001b[0m         \u001b[1;32mfor\u001b[0m \u001b[0mfigure_manager\u001b[0m \u001b[1;32min\u001b[0m \u001b[0mGcf\u001b[0m\u001b[1;33m.\u001b[0m\u001b[0mget_all_fig_managers\u001b[0m\u001b[1;33m(\u001b[0m\u001b[1;33m)\u001b[0m\u001b[1;33m:\u001b[0m\u001b[1;33m\u001b[0m\u001b[1;33m\u001b[0m\u001b[0m\n\u001b[1;32m---> 41\u001b[1;33m             display(\n\u001b[0m\u001b[0;32m     42\u001b[0m                 \u001b[0mfigure_manager\u001b[0m\u001b[1;33m.\u001b[0m\u001b[0mcanvas\u001b[0m\u001b[1;33m.\u001b[0m\u001b[0mfigure\u001b[0m\u001b[1;33m,\u001b[0m\u001b[1;33m\u001b[0m\u001b[1;33m\u001b[0m\u001b[0m\n\u001b[0;32m     43\u001b[0m                 \u001b[0mmetadata\u001b[0m\u001b[1;33m=\u001b[0m\u001b[0m_fetch_figure_metadata\u001b[0m\u001b[1;33m(\u001b[0m\u001b[0mfigure_manager\u001b[0m\u001b[1;33m.\u001b[0m\u001b[0mcanvas\u001b[0m\u001b[1;33m.\u001b[0m\u001b[0mfigure\u001b[0m\u001b[1;33m)\u001b[0m\u001b[1;33m\u001b[0m\u001b[1;33m\u001b[0m\u001b[0m\n",
            "\u001b[1;32mC:\\Python310\\lib\\site-packages\\IPython\\core\\display.py\u001b[0m in \u001b[0;36mdisplay\u001b[1;34m(include, exclude, metadata, transient, display_id, *objs, **kwargs)\u001b[0m\n\u001b[0;32m    318\u001b[0m             \u001b[0mpublish_display_data\u001b[0m\u001b[1;33m(\u001b[0m\u001b[0mdata\u001b[0m\u001b[1;33m=\u001b[0m\u001b[0mobj\u001b[0m\u001b[1;33m,\u001b[0m \u001b[0mmetadata\u001b[0m\u001b[1;33m=\u001b[0m\u001b[0mmetadata\u001b[0m\u001b[1;33m,\u001b[0m \u001b[1;33m**\u001b[0m\u001b[0mkwargs\u001b[0m\u001b[1;33m)\u001b[0m\u001b[1;33m\u001b[0m\u001b[1;33m\u001b[0m\u001b[0m\n\u001b[0;32m    319\u001b[0m         \u001b[1;32melse\u001b[0m\u001b[1;33m:\u001b[0m\u001b[1;33m\u001b[0m\u001b[1;33m\u001b[0m\u001b[0m\n\u001b[1;32m--> 320\u001b[1;33m             \u001b[0mformat_dict\u001b[0m\u001b[1;33m,\u001b[0m \u001b[0mmd_dict\u001b[0m \u001b[1;33m=\u001b[0m \u001b[0mformat\u001b[0m\u001b[1;33m(\u001b[0m\u001b[0mobj\u001b[0m\u001b[1;33m,\u001b[0m \u001b[0minclude\u001b[0m\u001b[1;33m=\u001b[0m\u001b[0minclude\u001b[0m\u001b[1;33m,\u001b[0m \u001b[0mexclude\u001b[0m\u001b[1;33m=\u001b[0m\u001b[0mexclude\u001b[0m\u001b[1;33m)\u001b[0m\u001b[1;33m\u001b[0m\u001b[1;33m\u001b[0m\u001b[0m\n\u001b[0m\u001b[0;32m    321\u001b[0m             \u001b[1;32mif\u001b[0m \u001b[1;32mnot\u001b[0m \u001b[0mformat_dict\u001b[0m\u001b[1;33m:\u001b[0m\u001b[1;33m\u001b[0m\u001b[1;33m\u001b[0m\u001b[0m\n\u001b[0;32m    322\u001b[0m                 \u001b[1;31m# nothing to display (e.g. _ipython_display_ took over)\u001b[0m\u001b[1;33m\u001b[0m\u001b[1;33m\u001b[0m\u001b[0m\n",
            "\u001b[1;32mC:\\Python310\\lib\\site-packages\\IPython\\core\\formatters.py\u001b[0m in \u001b[0;36mformat\u001b[1;34m(self, obj, include, exclude)\u001b[0m\n\u001b[0;32m    178\u001b[0m             \u001b[0mmd\u001b[0m \u001b[1;33m=\u001b[0m \u001b[1;32mNone\u001b[0m\u001b[1;33m\u001b[0m\u001b[1;33m\u001b[0m\u001b[0m\n\u001b[0;32m    179\u001b[0m             \u001b[1;32mtry\u001b[0m\u001b[1;33m:\u001b[0m\u001b[1;33m\u001b[0m\u001b[1;33m\u001b[0m\u001b[0m\n\u001b[1;32m--> 180\u001b[1;33m                 \u001b[0mdata\u001b[0m \u001b[1;33m=\u001b[0m \u001b[0mformatter\u001b[0m\u001b[1;33m(\u001b[0m\u001b[0mobj\u001b[0m\u001b[1;33m)\u001b[0m\u001b[1;33m\u001b[0m\u001b[1;33m\u001b[0m\u001b[0m\n\u001b[0m\u001b[0;32m    181\u001b[0m             \u001b[1;32mexcept\u001b[0m\u001b[1;33m:\u001b[0m\u001b[1;33m\u001b[0m\u001b[1;33m\u001b[0m\u001b[0m\n\u001b[0;32m    182\u001b[0m                 \u001b[1;31m# FIXME: log the exception\u001b[0m\u001b[1;33m\u001b[0m\u001b[1;33m\u001b[0m\u001b[0m\n",
            "\u001b[1;32mC:\\Python310\\lib\\site-packages\\decorator.py\u001b[0m in \u001b[0;36mfun\u001b[1;34m(*args, **kw)\u001b[0m\n\u001b[0;32m    230\u001b[0m             \u001b[1;32mif\u001b[0m \u001b[1;32mnot\u001b[0m \u001b[0mkwsyntax\u001b[0m\u001b[1;33m:\u001b[0m\u001b[1;33m\u001b[0m\u001b[1;33m\u001b[0m\u001b[0m\n\u001b[0;32m    231\u001b[0m                 \u001b[0margs\u001b[0m\u001b[1;33m,\u001b[0m \u001b[0mkw\u001b[0m \u001b[1;33m=\u001b[0m \u001b[0mfix\u001b[0m\u001b[1;33m(\u001b[0m\u001b[0margs\u001b[0m\u001b[1;33m,\u001b[0m \u001b[0mkw\u001b[0m\u001b[1;33m,\u001b[0m \u001b[0msig\u001b[0m\u001b[1;33m)\u001b[0m\u001b[1;33m\u001b[0m\u001b[1;33m\u001b[0m\u001b[0m\n\u001b[1;32m--> 232\u001b[1;33m             \u001b[1;32mreturn\u001b[0m \u001b[0mcaller\u001b[0m\u001b[1;33m(\u001b[0m\u001b[0mfunc\u001b[0m\u001b[1;33m,\u001b[0m \u001b[1;33m*\u001b[0m\u001b[1;33m(\u001b[0m\u001b[0mextras\u001b[0m \u001b[1;33m+\u001b[0m \u001b[0margs\u001b[0m\u001b[1;33m)\u001b[0m\u001b[1;33m,\u001b[0m \u001b[1;33m**\u001b[0m\u001b[0mkw\u001b[0m\u001b[1;33m)\u001b[0m\u001b[1;33m\u001b[0m\u001b[1;33m\u001b[0m\u001b[0m\n\u001b[0m\u001b[0;32m    233\u001b[0m     \u001b[0mfun\u001b[0m\u001b[1;33m.\u001b[0m\u001b[0m__name__\u001b[0m \u001b[1;33m=\u001b[0m \u001b[0mfunc\u001b[0m\u001b[1;33m.\u001b[0m\u001b[0m__name__\u001b[0m\u001b[1;33m\u001b[0m\u001b[1;33m\u001b[0m\u001b[0m\n\u001b[0;32m    234\u001b[0m     \u001b[0mfun\u001b[0m\u001b[1;33m.\u001b[0m\u001b[0m__doc__\u001b[0m \u001b[1;33m=\u001b[0m \u001b[0mfunc\u001b[0m\u001b[1;33m.\u001b[0m\u001b[0m__doc__\u001b[0m\u001b[1;33m\u001b[0m\u001b[1;33m\u001b[0m\u001b[0m\n",
            "\u001b[1;32mC:\\Python310\\lib\\site-packages\\IPython\\core\\formatters.py\u001b[0m in \u001b[0;36mcatch_format_error\u001b[1;34m(method, self, *args, **kwargs)\u001b[0m\n\u001b[0;32m    222\u001b[0m     \u001b[1;34m\"\"\"show traceback on failed format call\"\"\"\u001b[0m\u001b[1;33m\u001b[0m\u001b[1;33m\u001b[0m\u001b[0m\n\u001b[0;32m    223\u001b[0m     \u001b[1;32mtry\u001b[0m\u001b[1;33m:\u001b[0m\u001b[1;33m\u001b[0m\u001b[1;33m\u001b[0m\u001b[0m\n\u001b[1;32m--> 224\u001b[1;33m         \u001b[0mr\u001b[0m \u001b[1;33m=\u001b[0m \u001b[0mmethod\u001b[0m\u001b[1;33m(\u001b[0m\u001b[0mself\u001b[0m\u001b[1;33m,\u001b[0m \u001b[1;33m*\u001b[0m\u001b[0margs\u001b[0m\u001b[1;33m,\u001b[0m \u001b[1;33m**\u001b[0m\u001b[0mkwargs\u001b[0m\u001b[1;33m)\u001b[0m\u001b[1;33m\u001b[0m\u001b[1;33m\u001b[0m\u001b[0m\n\u001b[0m\u001b[0;32m    225\u001b[0m     \u001b[1;32mexcept\u001b[0m \u001b[0mNotImplementedError\u001b[0m\u001b[1;33m:\u001b[0m\u001b[1;33m\u001b[0m\u001b[1;33m\u001b[0m\u001b[0m\n\u001b[0;32m    226\u001b[0m         \u001b[1;31m# don't warn on NotImplementedErrors\u001b[0m\u001b[1;33m\u001b[0m\u001b[1;33m\u001b[0m\u001b[0m\n",
            "\u001b[1;32mC:\\Python310\\lib\\site-packages\\IPython\\core\\formatters.py\u001b[0m in \u001b[0;36m__call__\u001b[1;34m(self, obj)\u001b[0m\n\u001b[0;32m    339\u001b[0m                 \u001b[1;32mpass\u001b[0m\u001b[1;33m\u001b[0m\u001b[1;33m\u001b[0m\u001b[0m\n\u001b[0;32m    340\u001b[0m             \u001b[1;32melse\u001b[0m\u001b[1;33m:\u001b[0m\u001b[1;33m\u001b[0m\u001b[1;33m\u001b[0m\u001b[0m\n\u001b[1;32m--> 341\u001b[1;33m                 \u001b[1;32mreturn\u001b[0m \u001b[0mprinter\u001b[0m\u001b[1;33m(\u001b[0m\u001b[0mobj\u001b[0m\u001b[1;33m)\u001b[0m\u001b[1;33m\u001b[0m\u001b[1;33m\u001b[0m\u001b[0m\n\u001b[0m\u001b[0;32m    342\u001b[0m             \u001b[1;31m# Finally look for special method names\u001b[0m\u001b[1;33m\u001b[0m\u001b[1;33m\u001b[0m\u001b[0m\n\u001b[0;32m    343\u001b[0m             \u001b[0mmethod\u001b[0m \u001b[1;33m=\u001b[0m \u001b[0mget_real_method\u001b[0m\u001b[1;33m(\u001b[0m\u001b[0mobj\u001b[0m\u001b[1;33m,\u001b[0m \u001b[0mself\u001b[0m\u001b[1;33m.\u001b[0m\u001b[0mprint_method\u001b[0m\u001b[1;33m)\u001b[0m\u001b[1;33m\u001b[0m\u001b[1;33m\u001b[0m\u001b[0m\n",
            "\u001b[1;32mC:\\Python310\\lib\\site-packages\\IPython\\core\\pylabtools.py\u001b[0m in \u001b[0;36mprint_figure\u001b[1;34m(fig, fmt, bbox_inches, base64, **kwargs)\u001b[0m\n\u001b[0;32m    149\u001b[0m         \u001b[0mFigureCanvasBase\u001b[0m\u001b[1;33m(\u001b[0m\u001b[0mfig\u001b[0m\u001b[1;33m)\u001b[0m\u001b[1;33m\u001b[0m\u001b[1;33m\u001b[0m\u001b[0m\n\u001b[0;32m    150\u001b[0m \u001b[1;33m\u001b[0m\u001b[0m\n\u001b[1;32m--> 151\u001b[1;33m     \u001b[0mfig\u001b[0m\u001b[1;33m.\u001b[0m\u001b[0mcanvas\u001b[0m\u001b[1;33m.\u001b[0m\u001b[0mprint_figure\u001b[0m\u001b[1;33m(\u001b[0m\u001b[0mbytes_io\u001b[0m\u001b[1;33m,\u001b[0m \u001b[1;33m**\u001b[0m\u001b[0mkw\u001b[0m\u001b[1;33m)\u001b[0m\u001b[1;33m\u001b[0m\u001b[1;33m\u001b[0m\u001b[0m\n\u001b[0m\u001b[0;32m    152\u001b[0m     \u001b[0mdata\u001b[0m \u001b[1;33m=\u001b[0m \u001b[0mbytes_io\u001b[0m\u001b[1;33m.\u001b[0m\u001b[0mgetvalue\u001b[0m\u001b[1;33m(\u001b[0m\u001b[1;33m)\u001b[0m\u001b[1;33m\u001b[0m\u001b[1;33m\u001b[0m\u001b[0m\n\u001b[0;32m    153\u001b[0m     \u001b[1;32mif\u001b[0m \u001b[0mfmt\u001b[0m \u001b[1;33m==\u001b[0m \u001b[1;34m'svg'\u001b[0m\u001b[1;33m:\u001b[0m\u001b[1;33m\u001b[0m\u001b[1;33m\u001b[0m\u001b[0m\n",
            "\u001b[1;32m~\\AppData\\Roaming\\Python\\Python310\\site-packages\\matplotlib\\backend_bases.py\u001b[0m in \u001b[0;36mprint_figure\u001b[1;34m(self, filename, dpi, facecolor, edgecolor, orientation, format, bbox_inches, pad_inches, bbox_extra_artists, backend, **kwargs)\u001b[0m\n\u001b[0;32m   2288\u001b[0m                 )\n\u001b[0;32m   2289\u001b[0m                 \u001b[1;32mwith\u001b[0m \u001b[0mgetattr\u001b[0m\u001b[1;33m(\u001b[0m\u001b[0mrenderer\u001b[0m\u001b[1;33m,\u001b[0m \u001b[1;34m\"_draw_disabled\"\u001b[0m\u001b[1;33m,\u001b[0m \u001b[0mnullcontext\u001b[0m\u001b[1;33m)\u001b[0m\u001b[1;33m(\u001b[0m\u001b[1;33m)\u001b[0m\u001b[1;33m:\u001b[0m\u001b[1;33m\u001b[0m\u001b[1;33m\u001b[0m\u001b[0m\n\u001b[1;32m-> 2290\u001b[1;33m                     \u001b[0mself\u001b[0m\u001b[1;33m.\u001b[0m\u001b[0mfigure\u001b[0m\u001b[1;33m.\u001b[0m\u001b[0mdraw\u001b[0m\u001b[1;33m(\u001b[0m\u001b[0mrenderer\u001b[0m\u001b[1;33m)\u001b[0m\u001b[1;33m\u001b[0m\u001b[1;33m\u001b[0m\u001b[0m\n\u001b[0m\u001b[0;32m   2291\u001b[0m \u001b[1;33m\u001b[0m\u001b[0m\n\u001b[0;32m   2292\u001b[0m             \u001b[1;32mif\u001b[0m \u001b[0mbbox_inches\u001b[0m\u001b[1;33m:\u001b[0m\u001b[1;33m\u001b[0m\u001b[1;33m\u001b[0m\u001b[0m\n",
            "\u001b[1;32m~\\AppData\\Roaming\\Python\\Python310\\site-packages\\matplotlib\\artist.py\u001b[0m in \u001b[0;36mdraw_wrapper\u001b[1;34m(artist, renderer, *args, **kwargs)\u001b[0m\n\u001b[0;32m     71\u001b[0m     \u001b[1;33m@\u001b[0m\u001b[0mwraps\u001b[0m\u001b[1;33m(\u001b[0m\u001b[0mdraw\u001b[0m\u001b[1;33m)\u001b[0m\u001b[1;33m\u001b[0m\u001b[1;33m\u001b[0m\u001b[0m\n\u001b[0;32m     72\u001b[0m     \u001b[1;32mdef\u001b[0m \u001b[0mdraw_wrapper\u001b[0m\u001b[1;33m(\u001b[0m\u001b[0martist\u001b[0m\u001b[1;33m,\u001b[0m \u001b[0mrenderer\u001b[0m\u001b[1;33m,\u001b[0m \u001b[1;33m*\u001b[0m\u001b[0margs\u001b[0m\u001b[1;33m,\u001b[0m \u001b[1;33m**\u001b[0m\u001b[0mkwargs\u001b[0m\u001b[1;33m)\u001b[0m\u001b[1;33m:\u001b[0m\u001b[1;33m\u001b[0m\u001b[1;33m\u001b[0m\u001b[0m\n\u001b[1;32m---> 73\u001b[1;33m         \u001b[0mresult\u001b[0m \u001b[1;33m=\u001b[0m \u001b[0mdraw\u001b[0m\u001b[1;33m(\u001b[0m\u001b[0martist\u001b[0m\u001b[1;33m,\u001b[0m \u001b[0mrenderer\u001b[0m\u001b[1;33m,\u001b[0m \u001b[1;33m*\u001b[0m\u001b[0margs\u001b[0m\u001b[1;33m,\u001b[0m \u001b[1;33m**\u001b[0m\u001b[0mkwargs\u001b[0m\u001b[1;33m)\u001b[0m\u001b[1;33m\u001b[0m\u001b[1;33m\u001b[0m\u001b[0m\n\u001b[0m\u001b[0;32m     74\u001b[0m         \u001b[1;32mif\u001b[0m \u001b[0mrenderer\u001b[0m\u001b[1;33m.\u001b[0m\u001b[0m_rasterizing\u001b[0m\u001b[1;33m:\u001b[0m\u001b[1;33m\u001b[0m\u001b[1;33m\u001b[0m\u001b[0m\n\u001b[0;32m     75\u001b[0m             \u001b[0mrenderer\u001b[0m\u001b[1;33m.\u001b[0m\u001b[0mstop_rasterizing\u001b[0m\u001b[1;33m(\u001b[0m\u001b[1;33m)\u001b[0m\u001b[1;33m\u001b[0m\u001b[1;33m\u001b[0m\u001b[0m\n",
            "\u001b[1;32m~\\AppData\\Roaming\\Python\\Python310\\site-packages\\matplotlib\\artist.py\u001b[0m in \u001b[0;36mdraw_wrapper\u001b[1;34m(artist, renderer)\u001b[0m\n\u001b[0;32m     48\u001b[0m                 \u001b[0mrenderer\u001b[0m\u001b[1;33m.\u001b[0m\u001b[0mstart_filter\u001b[0m\u001b[1;33m(\u001b[0m\u001b[1;33m)\u001b[0m\u001b[1;33m\u001b[0m\u001b[1;33m\u001b[0m\u001b[0m\n\u001b[0;32m     49\u001b[0m \u001b[1;33m\u001b[0m\u001b[0m\n\u001b[1;32m---> 50\u001b[1;33m             \u001b[1;32mreturn\u001b[0m \u001b[0mdraw\u001b[0m\u001b[1;33m(\u001b[0m\u001b[0martist\u001b[0m\u001b[1;33m,\u001b[0m \u001b[0mrenderer\u001b[0m\u001b[1;33m)\u001b[0m\u001b[1;33m\u001b[0m\u001b[1;33m\u001b[0m\u001b[0m\n\u001b[0m\u001b[0;32m     51\u001b[0m         \u001b[1;32mfinally\u001b[0m\u001b[1;33m:\u001b[0m\u001b[1;33m\u001b[0m\u001b[1;33m\u001b[0m\u001b[0m\n\u001b[0;32m     52\u001b[0m             \u001b[1;32mif\u001b[0m \u001b[0martist\u001b[0m\u001b[1;33m.\u001b[0m\u001b[0mget_agg_filter\u001b[0m\u001b[1;33m(\u001b[0m\u001b[1;33m)\u001b[0m \u001b[1;32mis\u001b[0m \u001b[1;32mnot\u001b[0m \u001b[1;32mNone\u001b[0m\u001b[1;33m:\u001b[0m\u001b[1;33m\u001b[0m\u001b[1;33m\u001b[0m\u001b[0m\n",
            "\u001b[1;32m~\\AppData\\Roaming\\Python\\Python310\\site-packages\\matplotlib\\figure.py\u001b[0m in \u001b[0;36mdraw\u001b[1;34m(self, renderer)\u001b[0m\n\u001b[0;32m   2801\u001b[0m \u001b[1;33m\u001b[0m\u001b[0m\n\u001b[0;32m   2802\u001b[0m             \u001b[0mself\u001b[0m\u001b[1;33m.\u001b[0m\u001b[0mpatch\u001b[0m\u001b[1;33m.\u001b[0m\u001b[0mdraw\u001b[0m\u001b[1;33m(\u001b[0m\u001b[0mrenderer\u001b[0m\u001b[1;33m)\u001b[0m\u001b[1;33m\u001b[0m\u001b[1;33m\u001b[0m\u001b[0m\n\u001b[1;32m-> 2803\u001b[1;33m             mimage._draw_list_compositing_images(\n\u001b[0m\u001b[0;32m   2804\u001b[0m                 renderer, self, artists, self.suppressComposite)\n\u001b[0;32m   2805\u001b[0m \u001b[1;33m\u001b[0m\u001b[0m\n",
            "\u001b[1;32m~\\AppData\\Roaming\\Python\\Python310\\site-packages\\matplotlib\\image.py\u001b[0m in \u001b[0;36m_draw_list_compositing_images\u001b[1;34m(renderer, parent, artists, suppress_composite)\u001b[0m\n\u001b[0;32m    130\u001b[0m     \u001b[1;32mif\u001b[0m \u001b[0mnot_composite\u001b[0m \u001b[1;32mor\u001b[0m \u001b[1;32mnot\u001b[0m \u001b[0mhas_images\u001b[0m\u001b[1;33m:\u001b[0m\u001b[1;33m\u001b[0m\u001b[1;33m\u001b[0m\u001b[0m\n\u001b[0;32m    131\u001b[0m         \u001b[1;32mfor\u001b[0m \u001b[0ma\u001b[0m \u001b[1;32min\u001b[0m \u001b[0martists\u001b[0m\u001b[1;33m:\u001b[0m\u001b[1;33m\u001b[0m\u001b[1;33m\u001b[0m\u001b[0m\n\u001b[1;32m--> 132\u001b[1;33m             \u001b[0ma\u001b[0m\u001b[1;33m.\u001b[0m\u001b[0mdraw\u001b[0m\u001b[1;33m(\u001b[0m\u001b[0mrenderer\u001b[0m\u001b[1;33m)\u001b[0m\u001b[1;33m\u001b[0m\u001b[1;33m\u001b[0m\u001b[0m\n\u001b[0m\u001b[0;32m    133\u001b[0m     \u001b[1;32melse\u001b[0m\u001b[1;33m:\u001b[0m\u001b[1;33m\u001b[0m\u001b[1;33m\u001b[0m\u001b[0m\n\u001b[0;32m    134\u001b[0m         \u001b[1;31m# Composite any adjacent images together\u001b[0m\u001b[1;33m\u001b[0m\u001b[1;33m\u001b[0m\u001b[0m\n",
            "\u001b[1;32m~\\AppData\\Roaming\\Python\\Python310\\site-packages\\matplotlib\\artist.py\u001b[0m in \u001b[0;36mdraw_wrapper\u001b[1;34m(artist, renderer)\u001b[0m\n\u001b[0;32m     48\u001b[0m                 \u001b[0mrenderer\u001b[0m\u001b[1;33m.\u001b[0m\u001b[0mstart_filter\u001b[0m\u001b[1;33m(\u001b[0m\u001b[1;33m)\u001b[0m\u001b[1;33m\u001b[0m\u001b[1;33m\u001b[0m\u001b[0m\n\u001b[0;32m     49\u001b[0m \u001b[1;33m\u001b[0m\u001b[0m\n\u001b[1;32m---> 50\u001b[1;33m             \u001b[1;32mreturn\u001b[0m \u001b[0mdraw\u001b[0m\u001b[1;33m(\u001b[0m\u001b[0martist\u001b[0m\u001b[1;33m,\u001b[0m \u001b[0mrenderer\u001b[0m\u001b[1;33m)\u001b[0m\u001b[1;33m\u001b[0m\u001b[1;33m\u001b[0m\u001b[0m\n\u001b[0m\u001b[0;32m     51\u001b[0m         \u001b[1;32mfinally\u001b[0m\u001b[1;33m:\u001b[0m\u001b[1;33m\u001b[0m\u001b[1;33m\u001b[0m\u001b[0m\n\u001b[0;32m     52\u001b[0m             \u001b[1;32mif\u001b[0m \u001b[0martist\u001b[0m\u001b[1;33m.\u001b[0m\u001b[0mget_agg_filter\u001b[0m\u001b[1;33m(\u001b[0m\u001b[1;33m)\u001b[0m \u001b[1;32mis\u001b[0m \u001b[1;32mnot\u001b[0m \u001b[1;32mNone\u001b[0m\u001b[1;33m:\u001b[0m\u001b[1;33m\u001b[0m\u001b[1;33m\u001b[0m\u001b[0m\n",
            "\u001b[1;32m~\\AppData\\Roaming\\Python\\Python310\\site-packages\\matplotlib\\axes\\_base.py\u001b[0m in \u001b[0;36mdraw\u001b[1;34m(self, renderer)\u001b[0m\n\u001b[0;32m   3080\u001b[0m             \u001b[0mrenderer\u001b[0m\u001b[1;33m.\u001b[0m\u001b[0mstop_rasterizing\u001b[0m\u001b[1;33m(\u001b[0m\u001b[1;33m)\u001b[0m\u001b[1;33m\u001b[0m\u001b[1;33m\u001b[0m\u001b[0m\n\u001b[0;32m   3081\u001b[0m \u001b[1;33m\u001b[0m\u001b[0m\n\u001b[1;32m-> 3082\u001b[1;33m         mimage._draw_list_compositing_images(\n\u001b[0m\u001b[0;32m   3083\u001b[0m             renderer, self, artists, self.figure.suppressComposite)\n\u001b[0;32m   3084\u001b[0m \u001b[1;33m\u001b[0m\u001b[0m\n",
            "\u001b[1;32m~\\AppData\\Roaming\\Python\\Python310\\site-packages\\matplotlib\\image.py\u001b[0m in \u001b[0;36m_draw_list_compositing_images\u001b[1;34m(renderer, parent, artists, suppress_composite)\u001b[0m\n\u001b[0;32m    130\u001b[0m     \u001b[1;32mif\u001b[0m \u001b[0mnot_composite\u001b[0m \u001b[1;32mor\u001b[0m \u001b[1;32mnot\u001b[0m \u001b[0mhas_images\u001b[0m\u001b[1;33m:\u001b[0m\u001b[1;33m\u001b[0m\u001b[1;33m\u001b[0m\u001b[0m\n\u001b[0;32m    131\u001b[0m         \u001b[1;32mfor\u001b[0m \u001b[0ma\u001b[0m \u001b[1;32min\u001b[0m \u001b[0martists\u001b[0m\u001b[1;33m:\u001b[0m\u001b[1;33m\u001b[0m\u001b[1;33m\u001b[0m\u001b[0m\n\u001b[1;32m--> 132\u001b[1;33m             \u001b[0ma\u001b[0m\u001b[1;33m.\u001b[0m\u001b[0mdraw\u001b[0m\u001b[1;33m(\u001b[0m\u001b[0mrenderer\u001b[0m\u001b[1;33m)\u001b[0m\u001b[1;33m\u001b[0m\u001b[1;33m\u001b[0m\u001b[0m\n\u001b[0m\u001b[0;32m    133\u001b[0m     \u001b[1;32melse\u001b[0m\u001b[1;33m:\u001b[0m\u001b[1;33m\u001b[0m\u001b[1;33m\u001b[0m\u001b[0m\n\u001b[0;32m    134\u001b[0m         \u001b[1;31m# Composite any adjacent images together\u001b[0m\u001b[1;33m\u001b[0m\u001b[1;33m\u001b[0m\u001b[0m\n",
            "\u001b[1;32m~\\AppData\\Roaming\\Python\\Python310\\site-packages\\matplotlib\\artist.py\u001b[0m in \u001b[0;36mdraw_wrapper\u001b[1;34m(artist, renderer)\u001b[0m\n\u001b[0;32m     48\u001b[0m                 \u001b[0mrenderer\u001b[0m\u001b[1;33m.\u001b[0m\u001b[0mstart_filter\u001b[0m\u001b[1;33m(\u001b[0m\u001b[1;33m)\u001b[0m\u001b[1;33m\u001b[0m\u001b[1;33m\u001b[0m\u001b[0m\n\u001b[0;32m     49\u001b[0m \u001b[1;33m\u001b[0m\u001b[0m\n\u001b[1;32m---> 50\u001b[1;33m             \u001b[1;32mreturn\u001b[0m \u001b[0mdraw\u001b[0m\u001b[1;33m(\u001b[0m\u001b[0martist\u001b[0m\u001b[1;33m,\u001b[0m \u001b[0mrenderer\u001b[0m\u001b[1;33m)\u001b[0m\u001b[1;33m\u001b[0m\u001b[1;33m\u001b[0m\u001b[0m\n\u001b[0m\u001b[0;32m     51\u001b[0m         \u001b[1;32mfinally\u001b[0m\u001b[1;33m:\u001b[0m\u001b[1;33m\u001b[0m\u001b[1;33m\u001b[0m\u001b[0m\n\u001b[0;32m     52\u001b[0m             \u001b[1;32mif\u001b[0m \u001b[0martist\u001b[0m\u001b[1;33m.\u001b[0m\u001b[0mget_agg_filter\u001b[0m\u001b[1;33m(\u001b[0m\u001b[1;33m)\u001b[0m \u001b[1;32mis\u001b[0m \u001b[1;32mnot\u001b[0m \u001b[1;32mNone\u001b[0m\u001b[1;33m:\u001b[0m\u001b[1;33m\u001b[0m\u001b[1;33m\u001b[0m\u001b[0m\n",
            "\u001b[1;32m~\\AppData\\Roaming\\Python\\Python310\\site-packages\\matplotlib\\axis.py\u001b[0m in \u001b[0;36mdraw\u001b[1;34m(self, renderer, *args, **kwargs)\u001b[0m\n\u001b[0;32m   1161\u001b[0m \u001b[1;33m\u001b[0m\u001b[0m\n\u001b[0;32m   1162\u001b[0m         \u001b[1;32mfor\u001b[0m \u001b[0mtick\u001b[0m \u001b[1;32min\u001b[0m \u001b[0mticks_to_draw\u001b[0m\u001b[1;33m:\u001b[0m\u001b[1;33m\u001b[0m\u001b[1;33m\u001b[0m\u001b[0m\n\u001b[1;32m-> 1163\u001b[1;33m             \u001b[0mtick\u001b[0m\u001b[1;33m.\u001b[0m\u001b[0mdraw\u001b[0m\u001b[1;33m(\u001b[0m\u001b[0mrenderer\u001b[0m\u001b[1;33m)\u001b[0m\u001b[1;33m\u001b[0m\u001b[1;33m\u001b[0m\u001b[0m\n\u001b[0m\u001b[0;32m   1164\u001b[0m \u001b[1;33m\u001b[0m\u001b[0m\n\u001b[0;32m   1165\u001b[0m         \u001b[1;31m# scale up the axis label box to also find the neighbors, not\u001b[0m\u001b[1;33m\u001b[0m\u001b[1;33m\u001b[0m\u001b[0m\n",
            "\u001b[1;32m~\\AppData\\Roaming\\Python\\Python310\\site-packages\\matplotlib\\artist.py\u001b[0m in \u001b[0;36mdraw_wrapper\u001b[1;34m(artist, renderer)\u001b[0m\n\u001b[0;32m     48\u001b[0m                 \u001b[0mrenderer\u001b[0m\u001b[1;33m.\u001b[0m\u001b[0mstart_filter\u001b[0m\u001b[1;33m(\u001b[0m\u001b[1;33m)\u001b[0m\u001b[1;33m\u001b[0m\u001b[1;33m\u001b[0m\u001b[0m\n\u001b[0;32m     49\u001b[0m \u001b[1;33m\u001b[0m\u001b[0m\n\u001b[1;32m---> 50\u001b[1;33m             \u001b[1;32mreturn\u001b[0m \u001b[0mdraw\u001b[0m\u001b[1;33m(\u001b[0m\u001b[0martist\u001b[0m\u001b[1;33m,\u001b[0m \u001b[0mrenderer\u001b[0m\u001b[1;33m)\u001b[0m\u001b[1;33m\u001b[0m\u001b[1;33m\u001b[0m\u001b[0m\n\u001b[0m\u001b[0;32m     51\u001b[0m         \u001b[1;32mfinally\u001b[0m\u001b[1;33m:\u001b[0m\u001b[1;33m\u001b[0m\u001b[1;33m\u001b[0m\u001b[0m\n\u001b[0;32m     52\u001b[0m             \u001b[1;32mif\u001b[0m \u001b[0martist\u001b[0m\u001b[1;33m.\u001b[0m\u001b[0mget_agg_filter\u001b[0m\u001b[1;33m(\u001b[0m\u001b[1;33m)\u001b[0m \u001b[1;32mis\u001b[0m \u001b[1;32mnot\u001b[0m \u001b[1;32mNone\u001b[0m\u001b[1;33m:\u001b[0m\u001b[1;33m\u001b[0m\u001b[1;33m\u001b[0m\u001b[0m\n",
            "\u001b[1;32m~\\AppData\\Roaming\\Python\\Python310\\site-packages\\matplotlib\\axis.py\u001b[0m in \u001b[0;36mdraw\u001b[1;34m(self, renderer)\u001b[0m\n\u001b[0;32m    297\u001b[0m         for artist in [self.gridline, self.tick1line, self.tick2line,\n\u001b[0;32m    298\u001b[0m                        self.label1, self.label2]:\n\u001b[1;32m--> 299\u001b[1;33m             \u001b[0martist\u001b[0m\u001b[1;33m.\u001b[0m\u001b[0mdraw\u001b[0m\u001b[1;33m(\u001b[0m\u001b[0mrenderer\u001b[0m\u001b[1;33m)\u001b[0m\u001b[1;33m\u001b[0m\u001b[1;33m\u001b[0m\u001b[0m\n\u001b[0m\u001b[0;32m    300\u001b[0m         \u001b[0mrenderer\u001b[0m\u001b[1;33m.\u001b[0m\u001b[0mclose_group\u001b[0m\u001b[1;33m(\u001b[0m\u001b[0mself\u001b[0m\u001b[1;33m.\u001b[0m\u001b[0m__name__\u001b[0m\u001b[1;33m)\u001b[0m\u001b[1;33m\u001b[0m\u001b[1;33m\u001b[0m\u001b[0m\n\u001b[0;32m    301\u001b[0m         \u001b[0mself\u001b[0m\u001b[1;33m.\u001b[0m\u001b[0mstale\u001b[0m \u001b[1;33m=\u001b[0m \u001b[1;32mFalse\u001b[0m\u001b[1;33m\u001b[0m\u001b[1;33m\u001b[0m\u001b[0m\n",
            "\u001b[1;32m~\\AppData\\Roaming\\Python\\Python310\\site-packages\\matplotlib\\artist.py\u001b[0m in \u001b[0;36mdraw_wrapper\u001b[1;34m(artist, renderer)\u001b[0m\n\u001b[0;32m     48\u001b[0m                 \u001b[0mrenderer\u001b[0m\u001b[1;33m.\u001b[0m\u001b[0mstart_filter\u001b[0m\u001b[1;33m(\u001b[0m\u001b[1;33m)\u001b[0m\u001b[1;33m\u001b[0m\u001b[1;33m\u001b[0m\u001b[0m\n\u001b[0;32m     49\u001b[0m \u001b[1;33m\u001b[0m\u001b[0m\n\u001b[1;32m---> 50\u001b[1;33m             \u001b[1;32mreturn\u001b[0m \u001b[0mdraw\u001b[0m\u001b[1;33m(\u001b[0m\u001b[0martist\u001b[0m\u001b[1;33m,\u001b[0m \u001b[0mrenderer\u001b[0m\u001b[1;33m)\u001b[0m\u001b[1;33m\u001b[0m\u001b[1;33m\u001b[0m\u001b[0m\n\u001b[0m\u001b[0;32m     51\u001b[0m         \u001b[1;32mfinally\u001b[0m\u001b[1;33m:\u001b[0m\u001b[1;33m\u001b[0m\u001b[1;33m\u001b[0m\u001b[0m\n\u001b[0;32m     52\u001b[0m             \u001b[1;32mif\u001b[0m \u001b[0martist\u001b[0m\u001b[1;33m.\u001b[0m\u001b[0mget_agg_filter\u001b[0m\u001b[1;33m(\u001b[0m\u001b[1;33m)\u001b[0m \u001b[1;32mis\u001b[0m \u001b[1;32mnot\u001b[0m \u001b[1;32mNone\u001b[0m\u001b[1;33m:\u001b[0m\u001b[1;33m\u001b[0m\u001b[1;33m\u001b[0m\u001b[0m\n",
            "\u001b[1;32m~\\AppData\\Roaming\\Python\\Python310\\site-packages\\matplotlib\\text.py\u001b[0m in \u001b[0;36mdraw\u001b[1;34m(self, renderer)\u001b[0m\n\u001b[0;32m    683\u001b[0m \u001b[1;33m\u001b[0m\u001b[0m\n\u001b[0;32m    684\u001b[0m         \u001b[1;32mwith\u001b[0m \u001b[0mself\u001b[0m\u001b[1;33m.\u001b[0m\u001b[0m_cm_set\u001b[0m\u001b[1;33m(\u001b[0m\u001b[0mtext\u001b[0m\u001b[1;33m=\u001b[0m\u001b[0mself\u001b[0m\u001b[1;33m.\u001b[0m\u001b[0m_get_wrapped_text\u001b[0m\u001b[1;33m(\u001b[0m\u001b[1;33m)\u001b[0m\u001b[1;33m)\u001b[0m\u001b[1;33m:\u001b[0m\u001b[1;33m\u001b[0m\u001b[1;33m\u001b[0m\u001b[0m\n\u001b[1;32m--> 685\u001b[1;33m             \u001b[0mbbox\u001b[0m\u001b[1;33m,\u001b[0m \u001b[0minfo\u001b[0m\u001b[1;33m,\u001b[0m \u001b[0mdescent\u001b[0m \u001b[1;33m=\u001b[0m \u001b[0mself\u001b[0m\u001b[1;33m.\u001b[0m\u001b[0m_get_layout\u001b[0m\u001b[1;33m(\u001b[0m\u001b[0mrenderer\u001b[0m\u001b[1;33m)\u001b[0m\u001b[1;33m\u001b[0m\u001b[1;33m\u001b[0m\u001b[0m\n\u001b[0m\u001b[0;32m    686\u001b[0m             \u001b[0mtrans\u001b[0m \u001b[1;33m=\u001b[0m \u001b[0mself\u001b[0m\u001b[1;33m.\u001b[0m\u001b[0mget_transform\u001b[0m\u001b[1;33m(\u001b[0m\u001b[1;33m)\u001b[0m\u001b[1;33m\u001b[0m\u001b[1;33m\u001b[0m\u001b[0m\n\u001b[0;32m    687\u001b[0m \u001b[1;33m\u001b[0m\u001b[0m\n",
            "\u001b[1;32m~\\AppData\\Roaming\\Python\\Python310\\site-packages\\matplotlib\\text.py\u001b[0m in \u001b[0;36m_get_layout\u001b[1;34m(self, renderer)\u001b[0m\n\u001b[0;32m    315\u001b[0m             \u001b[0mclean_line\u001b[0m\u001b[1;33m,\u001b[0m \u001b[0mismath\u001b[0m \u001b[1;33m=\u001b[0m \u001b[0mself\u001b[0m\u001b[1;33m.\u001b[0m\u001b[0m_preprocess_math\u001b[0m\u001b[1;33m(\u001b[0m\u001b[0mline\u001b[0m\u001b[1;33m)\u001b[0m\u001b[1;33m\u001b[0m\u001b[1;33m\u001b[0m\u001b[0m\n\u001b[0;32m    316\u001b[0m             \u001b[1;32mif\u001b[0m \u001b[0mclean_line\u001b[0m\u001b[1;33m:\u001b[0m\u001b[1;33m\u001b[0m\u001b[1;33m\u001b[0m\u001b[0m\n\u001b[1;32m--> 317\u001b[1;33m                 w, h, d = renderer.get_text_width_height_descent(\n\u001b[0m\u001b[0;32m    318\u001b[0m                     clean_line, self._fontproperties, ismath=ismath)\n\u001b[0;32m    319\u001b[0m             \u001b[1;32melse\u001b[0m\u001b[1;33m:\u001b[0m\u001b[1;33m\u001b[0m\u001b[1;33m\u001b[0m\u001b[0m\n",
            "\u001b[1;32m~\\AppData\\Roaming\\Python\\Python310\\site-packages\\matplotlib\\backends\\backend_agg.py\u001b[0m in \u001b[0;36mget_text_width_height_descent\u001b[1;34m(self, s, prop, ismath)\u001b[0m\n\u001b[0;32m    268\u001b[0m         \u001b[0mflags\u001b[0m \u001b[1;33m=\u001b[0m \u001b[0mget_hinting_flag\u001b[0m\u001b[1;33m(\u001b[0m\u001b[1;33m)\u001b[0m\u001b[1;33m\u001b[0m\u001b[1;33m\u001b[0m\u001b[0m\n\u001b[0;32m    269\u001b[0m         \u001b[0mfont\u001b[0m \u001b[1;33m=\u001b[0m \u001b[0mself\u001b[0m\u001b[1;33m.\u001b[0m\u001b[0m_get_agg_font\u001b[0m\u001b[1;33m(\u001b[0m\u001b[0mprop\u001b[0m\u001b[1;33m)\u001b[0m\u001b[1;33m\u001b[0m\u001b[1;33m\u001b[0m\u001b[0m\n\u001b[1;32m--> 270\u001b[1;33m         \u001b[0mfont\u001b[0m\u001b[1;33m.\u001b[0m\u001b[0mset_text\u001b[0m\u001b[1;33m(\u001b[0m\u001b[0ms\u001b[0m\u001b[1;33m,\u001b[0m \u001b[1;36m0.0\u001b[0m\u001b[1;33m,\u001b[0m \u001b[0mflags\u001b[0m\u001b[1;33m=\u001b[0m\u001b[0mflags\u001b[0m\u001b[1;33m)\u001b[0m\u001b[1;33m\u001b[0m\u001b[1;33m\u001b[0m\u001b[0m\n\u001b[0m\u001b[0;32m    271\u001b[0m         \u001b[0mw\u001b[0m\u001b[1;33m,\u001b[0m \u001b[0mh\u001b[0m \u001b[1;33m=\u001b[0m \u001b[0mfont\u001b[0m\u001b[1;33m.\u001b[0m\u001b[0mget_width_height\u001b[0m\u001b[1;33m(\u001b[0m\u001b[1;33m)\u001b[0m  \u001b[1;31m# width and height of unrotated string\u001b[0m\u001b[1;33m\u001b[0m\u001b[1;33m\u001b[0m\u001b[0m\n\u001b[0;32m    272\u001b[0m         \u001b[0md\u001b[0m \u001b[1;33m=\u001b[0m \u001b[0mfont\u001b[0m\u001b[1;33m.\u001b[0m\u001b[0mget_descent\u001b[0m\u001b[1;33m(\u001b[0m\u001b[1;33m)\u001b[0m\u001b[1;33m\u001b[0m\u001b[1;33m\u001b[0m\u001b[0m\n",
            "\u001b[1;31mKeyboardInterrupt\u001b[0m: "
          ]
        }
      ],
      "source": [
        "#separation visualisation\n",
        "\n",
        "g = sns.scatterplot(x=\"UNIX_starttime\", y=\"case\", hue=\"enc_event\", data=data, palette='colorblind', legend=False)\n",
        "\n",
        "#add lines for separation - horizontal and vertical"
      ]
    },
    {
      "cell_type": "code",
      "execution_count": null,
      "metadata": {
        "id": "EJeqDuL6AYCv",
        "outputId": "60ac9040-5ca1-4e0c-c135-a0b9d38c39d8"
      },
      "outputs": [],
      "source": [
        "train.columns"
      ]
    },
    {
      "cell_type": "markdown",
      "metadata": {
        "id": "j9BgcNRxAYCw"
      },
      "source": [
        "# Feature prediction for time and event based on KBest(z-scores)\n",
        "note: don't run takes a significant time"
      ]
    },
    {
      "cell_type": "code",
      "execution_count": 18,
      "metadata": {
        "id": "hPCfrgnjAYCw"
      },
      "outputs": [
        {
          "ename": "MemoryError",
          "evalue": "Unable to allocate 199. MiB for an array with shape (317630, 82) and data type float64",
          "output_type": "error",
          "traceback": [
            "\u001b[1;31m---------------------------------------------------------------------------\u001b[0m",
            "\u001b[1;31mMemoryError\u001b[0m                               Traceback (most recent call last)",
            "\u001b[1;32m~\\AppData\\Local\\Temp/ipykernel_13944/2709459300.py\u001b[0m in \u001b[0;36m<module>\u001b[1;34m\u001b[0m\n\u001b[0;32m      8\u001b[0m \u001b[1;33m\u001b[0m\u001b[0m\n\u001b[0;32m      9\u001b[0m \u001b[0mselect\u001b[0m \u001b[1;33m=\u001b[0m \u001b[0mSelectKBest\u001b[0m\u001b[1;33m(\u001b[0m\u001b[0mk\u001b[0m\u001b[1;33m=\u001b[0m\u001b[1;36m10\u001b[0m\u001b[1;33m)\u001b[0m \u001b[1;31m# takes best 10 arguments\u001b[0m\u001b[1;33m\u001b[0m\u001b[1;33m\u001b[0m\u001b[0m\n\u001b[1;32m---> 10\u001b[1;33m \u001b[0mz\u001b[0m \u001b[1;33m=\u001b[0m \u001b[0mselect\u001b[0m\u001b[1;33m.\u001b[0m\u001b[0mfit_transform\u001b[0m\u001b[1;33m(\u001b[0m\u001b[0mX_train_event\u001b[0m\u001b[1;33m,\u001b[0m \u001b[0mY_train_event\u001b[0m\u001b[1;33m)\u001b[0m\u001b[1;33m\u001b[0m\u001b[1;33m\u001b[0m\u001b[0m\n\u001b[0m\u001b[0;32m     11\u001b[0m \u001b[0mfilter\u001b[0m \u001b[1;33m=\u001b[0m \u001b[0mselect\u001b[0m\u001b[1;33m.\u001b[0m\u001b[0mget_support\u001b[0m\u001b[1;33m(\u001b[0m\u001b[1;33m)\u001b[0m\u001b[1;33m\u001b[0m\u001b[1;33m\u001b[0m\u001b[0m\n\u001b[0;32m     12\u001b[0m \u001b[0mprint\u001b[0m\u001b[1;33m(\u001b[0m\u001b[0mnp\u001b[0m\u001b[1;33m.\u001b[0m\u001b[0mextract\u001b[0m\u001b[1;33m(\u001b[0m\u001b[0mfilter\u001b[0m\u001b[1;33m,\u001b[0m \u001b[0mX_train_event\u001b[0m\u001b[1;33m.\u001b[0m\u001b[0mcolumns\u001b[0m\u001b[1;33m)\u001b[0m\u001b[1;33m)\u001b[0m\u001b[1;33m\u001b[0m\u001b[1;33m\u001b[0m\u001b[0m\n",
            "\u001b[1;32m~\\AppData\\Roaming\\Python\\Python310\\site-packages\\sklearn\\base.py\u001b[0m in \u001b[0;36mfit_transform\u001b[1;34m(self, X, y, **fit_params)\u001b[0m\n\u001b[0;32m    848\u001b[0m         \u001b[1;32melse\u001b[0m\u001b[1;33m:\u001b[0m\u001b[1;33m\u001b[0m\u001b[1;33m\u001b[0m\u001b[0m\n\u001b[0;32m    849\u001b[0m             \u001b[1;31m# fit method of arity 2 (supervised transformation)\u001b[0m\u001b[1;33m\u001b[0m\u001b[1;33m\u001b[0m\u001b[0m\n\u001b[1;32m--> 850\u001b[1;33m             \u001b[1;32mreturn\u001b[0m \u001b[0mself\u001b[0m\u001b[1;33m.\u001b[0m\u001b[0mfit\u001b[0m\u001b[1;33m(\u001b[0m\u001b[0mX\u001b[0m\u001b[1;33m,\u001b[0m \u001b[0my\u001b[0m\u001b[1;33m,\u001b[0m \u001b[1;33m**\u001b[0m\u001b[0mfit_params\u001b[0m\u001b[1;33m)\u001b[0m\u001b[1;33m.\u001b[0m\u001b[0mtransform\u001b[0m\u001b[1;33m(\u001b[0m\u001b[0mX\u001b[0m\u001b[1;33m)\u001b[0m\u001b[1;33m\u001b[0m\u001b[1;33m\u001b[0m\u001b[0m\n\u001b[0m\u001b[0;32m    851\u001b[0m \u001b[1;33m\u001b[0m\u001b[0m\n\u001b[0;32m    852\u001b[0m \u001b[1;33m\u001b[0m\u001b[0m\n",
            "\u001b[1;32m~\\AppData\\Roaming\\Python\\Python310\\site-packages\\sklearn\\feature_selection\\_univariate_selection.py\u001b[0m in \u001b[0;36mfit\u001b[1;34m(self, X, y)\u001b[0m\n\u001b[0;32m    406\u001b[0m \u001b[1;33m\u001b[0m\u001b[0m\n\u001b[0;32m    407\u001b[0m         \u001b[0mself\u001b[0m\u001b[1;33m.\u001b[0m\u001b[0m_check_params\u001b[0m\u001b[1;33m(\u001b[0m\u001b[0mX\u001b[0m\u001b[1;33m,\u001b[0m \u001b[0my\u001b[0m\u001b[1;33m)\u001b[0m\u001b[1;33m\u001b[0m\u001b[1;33m\u001b[0m\u001b[0m\n\u001b[1;32m--> 408\u001b[1;33m         \u001b[0mscore_func_ret\u001b[0m \u001b[1;33m=\u001b[0m \u001b[0mself\u001b[0m\u001b[1;33m.\u001b[0m\u001b[0mscore_func\u001b[0m\u001b[1;33m(\u001b[0m\u001b[0mX\u001b[0m\u001b[1;33m,\u001b[0m \u001b[0my\u001b[0m\u001b[1;33m)\u001b[0m\u001b[1;33m\u001b[0m\u001b[1;33m\u001b[0m\u001b[0m\n\u001b[0m\u001b[0;32m    409\u001b[0m         \u001b[1;32mif\u001b[0m \u001b[0misinstance\u001b[0m\u001b[1;33m(\u001b[0m\u001b[0mscore_func_ret\u001b[0m\u001b[1;33m,\u001b[0m \u001b[1;33m(\u001b[0m\u001b[0mlist\u001b[0m\u001b[1;33m,\u001b[0m \u001b[0mtuple\u001b[0m\u001b[1;33m)\u001b[0m\u001b[1;33m)\u001b[0m\u001b[1;33m:\u001b[0m\u001b[1;33m\u001b[0m\u001b[1;33m\u001b[0m\u001b[0m\n\u001b[0;32m    410\u001b[0m             \u001b[0mself\u001b[0m\u001b[1;33m.\u001b[0m\u001b[0mscores_\u001b[0m\u001b[1;33m,\u001b[0m \u001b[0mself\u001b[0m\u001b[1;33m.\u001b[0m\u001b[0mpvalues_\u001b[0m \u001b[1;33m=\u001b[0m \u001b[0mscore_func_ret\u001b[0m\u001b[1;33m\u001b[0m\u001b[1;33m\u001b[0m\u001b[0m\n",
            "\u001b[1;32m~\\AppData\\Roaming\\Python\\Python310\\site-packages\\sklearn\\feature_selection\\_univariate_selection.py\u001b[0m in \u001b[0;36mf_classif\u001b[1;34m(X, y)\u001b[0m\n\u001b[0;32m    146\u001b[0m     \u001b[0mX\u001b[0m\u001b[1;33m,\u001b[0m \u001b[0my\u001b[0m \u001b[1;33m=\u001b[0m \u001b[0mcheck_X_y\u001b[0m\u001b[1;33m(\u001b[0m\u001b[0mX\u001b[0m\u001b[1;33m,\u001b[0m \u001b[0my\u001b[0m\u001b[1;33m,\u001b[0m \u001b[0maccept_sparse\u001b[0m\u001b[1;33m=\u001b[0m\u001b[1;33m[\u001b[0m\u001b[1;34m\"csr\"\u001b[0m\u001b[1;33m,\u001b[0m \u001b[1;34m\"csc\"\u001b[0m\u001b[1;33m,\u001b[0m \u001b[1;34m\"coo\"\u001b[0m\u001b[1;33m]\u001b[0m\u001b[1;33m)\u001b[0m\u001b[1;33m\u001b[0m\u001b[1;33m\u001b[0m\u001b[0m\n\u001b[0;32m    147\u001b[0m     \u001b[0margs\u001b[0m \u001b[1;33m=\u001b[0m \u001b[1;33m[\u001b[0m\u001b[0mX\u001b[0m\u001b[1;33m[\u001b[0m\u001b[0msafe_mask\u001b[0m\u001b[1;33m(\u001b[0m\u001b[0mX\u001b[0m\u001b[1;33m,\u001b[0m \u001b[0my\u001b[0m \u001b[1;33m==\u001b[0m \u001b[0mk\u001b[0m\u001b[1;33m)\u001b[0m\u001b[1;33m]\u001b[0m \u001b[1;32mfor\u001b[0m \u001b[0mk\u001b[0m \u001b[1;32min\u001b[0m \u001b[0mnp\u001b[0m\u001b[1;33m.\u001b[0m\u001b[0munique\u001b[0m\u001b[1;33m(\u001b[0m\u001b[0my\u001b[0m\u001b[1;33m)\u001b[0m\u001b[1;33m]\u001b[0m\u001b[1;33m\u001b[0m\u001b[1;33m\u001b[0m\u001b[0m\n\u001b[1;32m--> 148\u001b[1;33m     \u001b[1;32mreturn\u001b[0m \u001b[0mf_oneway\u001b[0m\u001b[1;33m(\u001b[0m\u001b[1;33m*\u001b[0m\u001b[0margs\u001b[0m\u001b[1;33m)\u001b[0m\u001b[1;33m\u001b[0m\u001b[1;33m\u001b[0m\u001b[0m\n\u001b[0m\u001b[0;32m    149\u001b[0m \u001b[1;33m\u001b[0m\u001b[0m\n\u001b[0;32m    150\u001b[0m \u001b[1;33m\u001b[0m\u001b[0m\n",
            "\u001b[1;32m~\\AppData\\Roaming\\Python\\Python310\\site-packages\\sklearn\\feature_selection\\_univariate_selection.py\u001b[0m in \u001b[0;36mf_oneway\u001b[1;34m(*args)\u001b[0m\n\u001b[0;32m     91\u001b[0m     \"\"\"\n\u001b[0;32m     92\u001b[0m     \u001b[0mn_classes\u001b[0m \u001b[1;33m=\u001b[0m \u001b[0mlen\u001b[0m\u001b[1;33m(\u001b[0m\u001b[0margs\u001b[0m\u001b[1;33m)\u001b[0m\u001b[1;33m\u001b[0m\u001b[1;33m\u001b[0m\u001b[0m\n\u001b[1;32m---> 93\u001b[1;33m     \u001b[0margs\u001b[0m \u001b[1;33m=\u001b[0m \u001b[1;33m[\u001b[0m\u001b[0mas_float_array\u001b[0m\u001b[1;33m(\u001b[0m\u001b[0ma\u001b[0m\u001b[1;33m)\u001b[0m \u001b[1;32mfor\u001b[0m \u001b[0ma\u001b[0m \u001b[1;32min\u001b[0m \u001b[0margs\u001b[0m\u001b[1;33m]\u001b[0m\u001b[1;33m\u001b[0m\u001b[1;33m\u001b[0m\u001b[0m\n\u001b[0m\u001b[0;32m     94\u001b[0m     \u001b[0mn_samples_per_class\u001b[0m \u001b[1;33m=\u001b[0m \u001b[0mnp\u001b[0m\u001b[1;33m.\u001b[0m\u001b[0marray\u001b[0m\u001b[1;33m(\u001b[0m\u001b[1;33m[\u001b[0m\u001b[0ma\u001b[0m\u001b[1;33m.\u001b[0m\u001b[0mshape\u001b[0m\u001b[1;33m[\u001b[0m\u001b[1;36m0\u001b[0m\u001b[1;33m]\u001b[0m \u001b[1;32mfor\u001b[0m \u001b[0ma\u001b[0m \u001b[1;32min\u001b[0m \u001b[0margs\u001b[0m\u001b[1;33m]\u001b[0m\u001b[1;33m)\u001b[0m\u001b[1;33m\u001b[0m\u001b[1;33m\u001b[0m\u001b[0m\n\u001b[0;32m     95\u001b[0m     \u001b[0mn_samples\u001b[0m \u001b[1;33m=\u001b[0m \u001b[0mnp\u001b[0m\u001b[1;33m.\u001b[0m\u001b[0msum\u001b[0m\u001b[1;33m(\u001b[0m\u001b[0mn_samples_per_class\u001b[0m\u001b[1;33m)\u001b[0m\u001b[1;33m\u001b[0m\u001b[1;33m\u001b[0m\u001b[0m\n",
            "\u001b[1;32m~\\AppData\\Roaming\\Python\\Python310\\site-packages\\sklearn\\feature_selection\\_univariate_selection.py\u001b[0m in \u001b[0;36m<listcomp>\u001b[1;34m(.0)\u001b[0m\n\u001b[0;32m     91\u001b[0m     \"\"\"\n\u001b[0;32m     92\u001b[0m     \u001b[0mn_classes\u001b[0m \u001b[1;33m=\u001b[0m \u001b[0mlen\u001b[0m\u001b[1;33m(\u001b[0m\u001b[0margs\u001b[0m\u001b[1;33m)\u001b[0m\u001b[1;33m\u001b[0m\u001b[1;33m\u001b[0m\u001b[0m\n\u001b[1;32m---> 93\u001b[1;33m     \u001b[0margs\u001b[0m \u001b[1;33m=\u001b[0m \u001b[1;33m[\u001b[0m\u001b[0mas_float_array\u001b[0m\u001b[1;33m(\u001b[0m\u001b[0ma\u001b[0m\u001b[1;33m)\u001b[0m \u001b[1;32mfor\u001b[0m \u001b[0ma\u001b[0m \u001b[1;32min\u001b[0m \u001b[0margs\u001b[0m\u001b[1;33m]\u001b[0m\u001b[1;33m\u001b[0m\u001b[1;33m\u001b[0m\u001b[0m\n\u001b[0m\u001b[0;32m     94\u001b[0m     \u001b[0mn_samples_per_class\u001b[0m \u001b[1;33m=\u001b[0m \u001b[0mnp\u001b[0m\u001b[1;33m.\u001b[0m\u001b[0marray\u001b[0m\u001b[1;33m(\u001b[0m\u001b[1;33m[\u001b[0m\u001b[0ma\u001b[0m\u001b[1;33m.\u001b[0m\u001b[0mshape\u001b[0m\u001b[1;33m[\u001b[0m\u001b[1;36m0\u001b[0m\u001b[1;33m]\u001b[0m \u001b[1;32mfor\u001b[0m \u001b[0ma\u001b[0m \u001b[1;32min\u001b[0m \u001b[0margs\u001b[0m\u001b[1;33m]\u001b[0m\u001b[1;33m)\u001b[0m\u001b[1;33m\u001b[0m\u001b[1;33m\u001b[0m\u001b[0m\n\u001b[0;32m     95\u001b[0m     \u001b[0mn_samples\u001b[0m \u001b[1;33m=\u001b[0m \u001b[0mnp\u001b[0m\u001b[1;33m.\u001b[0m\u001b[0msum\u001b[0m\u001b[1;33m(\u001b[0m\u001b[0mn_samples_per_class\u001b[0m\u001b[1;33m)\u001b[0m\u001b[1;33m\u001b[0m\u001b[1;33m\u001b[0m\u001b[0m\n",
            "\u001b[1;32m~\\AppData\\Roaming\\Python\\Python310\\site-packages\\sklearn\\utils\\validation.py\u001b[0m in \u001b[0;36mas_float_array\u001b[1;34m(X, copy, force_all_finite)\u001b[0m\n\u001b[0;32m    190\u001b[0m         \u001b[1;32melse\u001b[0m\u001b[1;33m:\u001b[0m\u001b[1;33m\u001b[0m\u001b[1;33m\u001b[0m\u001b[0m\n\u001b[0;32m    191\u001b[0m             \u001b[0mreturn_dtype\u001b[0m \u001b[1;33m=\u001b[0m \u001b[0mnp\u001b[0m\u001b[1;33m.\u001b[0m\u001b[0mfloat64\u001b[0m\u001b[1;33m\u001b[0m\u001b[1;33m\u001b[0m\u001b[0m\n\u001b[1;32m--> 192\u001b[1;33m         \u001b[1;32mreturn\u001b[0m \u001b[0mX\u001b[0m\u001b[1;33m.\u001b[0m\u001b[0mastype\u001b[0m\u001b[1;33m(\u001b[0m\u001b[0mreturn_dtype\u001b[0m\u001b[1;33m)\u001b[0m\u001b[1;33m\u001b[0m\u001b[1;33m\u001b[0m\u001b[0m\n\u001b[0m\u001b[0;32m    193\u001b[0m \u001b[1;33m\u001b[0m\u001b[0m\n\u001b[0;32m    194\u001b[0m \u001b[1;33m\u001b[0m\u001b[0m\n",
            "\u001b[1;31mMemoryError\u001b[0m: Unable to allocate 199. MiB for an array with shape (317630, 82) and data type float64"
          ]
        }
      ],
      "source": [
        "from sklearn.feature_selection import SelectKBest\n",
        "\n",
        "def calc_feature_selection():\n",
        "    select = SelectKBest(k=10)  # takes best 10 arguments\n",
        "    z = select.fit_transform(X_train_time, Y_train_time)\n",
        "    filter = select.get_support()\n",
        "    print(np.extract(filter, X_train_time.columns))\n",
        "    #['event' 'penalty_AVBP' 'penalty_AVGP' 'eventid' 'activity' 'docid' 'subprocess' 'success' 'next_event' 'enc_event'] for time\n",
        "\n",
        "    select = SelectKBest(k=10)  # takes best 10 arguments\n",
        "    z = select.fit_transform(X_train_event, Y_train_event)\n",
        "    filter = select.get_support()\n",
        "    print(np.extract(filter, X_train_event.columns))\n",
        "    # ['event' 'selected_random' 'note' 'eventid' 'activity' 'subprocess' 'org:resource' 'duration' 'prev_event' 'enc_event'] for event\n"
      ]
    },
    {
      "cell_type": "markdown",
      "metadata": {
        "id": "HnszwsuyCw71"
      },
      "source": [
        "# Naive Baseline Models"
      ]
    },
    {
      "cell_type": "code",
      "execution_count": null,
      "metadata": {
        "id": "RIsCchagAYCx"
      },
      "outputs": [],
      "source": [
        "# Naive event (needs restructuring)\n",
        "data_baseline= test.copy()\n",
        "\n",
        "@jit(parallel = True)\n",
        "def calculator_pos(case):\n",
        "    res = np.empty(len(case), dtype=object)\n",
        "    idx = 0\n",
        "    count=1\n",
        "    for _ in case:\n",
        "        if (idx+1 >= len(case)):\n",
        "            break\n",
        "       \n",
        "        if (case[idx] == case[idx-1]):\n",
        "            count+=1\n",
        "            res[idx] = count\n",
        "            \n",
        "        else:\n",
        "            count=1\n",
        "            res[idx]=count\n",
        "\n",
        "        idx+=1\n",
        "    res[-1]=count+1\n",
        "    return res\n",
        "\n",
        "data_baseline[\"pos\"] = calculator_pos(data_baseline['case'].values)\n",
        "\n",
        "event_to_num = {}\n",
        "list_of_events = train[\"event\"].unique()\n",
        "i=0\n",
        "for event in list_of_events:\n",
        "    event_to_num[str(event)] = i\n",
        "    i += 1\n",
        "event_to_num['None'] = i\n",
        "\n",
        "pop=data_baseline.sort_values(by='pos')\n",
        "pop['eventnum']=pop['enc_event']\n",
        "pop2=pop.set_index('pos')\n",
        "pop3=pop[['pos','eventnum']]\n",
        "pop4=pop3.groupby(['pos', 'eventnum']).apply(pd.DataFrame.mode).reset_index(drop=True)\n",
        "pop5=pop4.drop_duplicates(subset='pos')\n",
        "ptenum= dict(zip(pop5.pos, pop5.eventnum))\n",
        "num_to_event = {value:key for key, value in event_to_num.items()}\n",
        "data_baseline['predicted_event_num'] = (data_baseline['pos']+1).map(ptenum)\n",
        "data_baseline['predicted_event'] = (data_baseline['predicted_event_num']).map(num_to_event)\n",
        "data_baseline_final=data_baseline.drop(['predicted_event_num'],axis=1)\n",
        "\n",
        "next_task=[]\n",
        "predicted_event=[]\n",
        "for event in data_baseline_final['next_event']:\n",
        "    next_task.append(str(event))\n",
        "    \n",
        "\n",
        "for case in data_baseline_final['predicted_event']:\n",
        "    predicted_event.append(str(case))\n",
        "\n",
        "accuracy_score(next_task,predicted_event)\n",
        "\n",
        "\n",
        "test[\"naive_event\"] = predicted_event"
      ]
    },
    {
      "cell_type": "code",
      "execution_count": null,
      "metadata": {
        "id": "RXmI8N5fAYCx"
      },
      "outputs": [],
      "source": [
        "# Naive time\n",
        "#Sums up count for each event and the time each event takes\n",
        "events_count = train.groupby(\"event\")['duration'].agg('count')\n",
        "event_duration_sum = train.groupby(\"event\")['duration'].agg('sum')\n",
        "\n",
        "#Computes average duration per event (basically our trained data that can be mapped onto test data)\n",
        "duration_per_event = event_duration_sum / events_count \n",
        "\n",
        "test[\"naive_time\"] = test['event'].map(duration_per_event)"
      ]
    },
    {
      "cell_type": "markdown",
      "metadata": {
        "id": "vzkbO8ioDJXG"
      },
      "source": [
        "# Random Forest"
      ]
    },
    {
      "cell_type": "code",
      "execution_count": null,
      "metadata": {
        "id": "bXp-EEClAYCy"
      },
      "outputs": [],
      "source": [
        "def calc_random_forest():\n",
        "    # Create the random grid\n",
        "\n",
        "    RF = RandomForestClassifier(n_estimators=300,\n",
        "                                min_samples_split=10,\n",
        "                                min_samples_leaf=2,\n",
        "                                max_features='sqrt',\n",
        "                                max_depth=50,\n",
        "                                bootstrap=True)\n",
        "\n",
        "    dataset_col = [\n",
        "        'event', 'selected_random', 'note', 'eventid', 'activity',\n",
        "        'subprocess', 'org:resource', 'duration', 'prev_event', 'enc_event'\n",
        "    ]\n",
        "\n",
        "    RF_fit = RF.fit(X_train_event.filter(items=dataset_col), Y_train_event)\n",
        "    RF_pred = RF_fit.predict(X_test_event.filter(items=dataset_col))\n",
        "    org_test[\"event_RF\"] = RF_pred\n",
        "    print(\"Accuracy for Random Forest: \",\n",
        "          accuracy_score(Y_test_event, RF_pred)) #91% accuracy on testing\n",
        "\n",
        "calc_random_forest()"
      ]
    },
    {
      "cell_type": "code",
      "execution_count": null,
      "metadata": {},
      "outputs": [],
      "source": []
    },
    {
      "cell_type": "markdown",
      "metadata": {
        "id": "eJ95WWv1FFq2"
      },
      "source": [
        "# LSTM"
      ]
    },
    {
      "cell_type": "code",
      "execution_count": null,
      "metadata": {
        "id": "cEjA1xPPAYCz"
      },
      "outputs": [],
      "source": [
        "from keras.models import Sequential\n",
        "from keras.layers import Dense\n",
        "from keras.layers import LSTM\n",
        "from keras.layers import Dropout\n",
        "from keras.layers import Activation"
      ]
    },
    {
      "cell_type": "code",
      "execution_count": null,
      "metadata": {
        "id": "SxFBpvJrAYC0",
        "outputId": "afef450d-4463-4567-a3a0-8f40a49df81a"
      },
      "outputs": [],
      "source": [
        "def calc_LSTM():\n",
        "    listVal = train\n",
        "    columnNames = [\n",
        "        'event', 'penalty_AVBP', 'penalty_AVGP', 'eventid', 'activity',\n",
        "        'docid', 'subprocess', 'success', 'next_event', 'enc_event'\n",
        "    ]\n",
        "    listValSelected = listVal[columnNames]\n",
        "    listValSelected_prediction = test[columnNames]\n",
        "    listValSelected_prediction = listValSelected_prediction.values\n",
        "    listValDuration_prediction = org_test['duration']\n",
        "    listValDuration_prediction = listValDuration_prediction.values\n",
        "    listValDuration = org_train['duration'].values\n",
        "\n",
        "    listValSelected = listValSelected.values\n",
        "    n_steps = len(listValSelected[0])\n",
        "    # split into samples\n",
        "    n_features = 1\n",
        "    X = listValSelected.reshape(\n",
        "        (listValSelected.shape[0], listValSelected.shape[1], n_features))\n",
        "    y = listValDuration\n",
        "\n",
        "    # define model\n",
        "    model = Sequential()\n",
        "    model.add(\n",
        "        LSTM(\n",
        "            100,\n",
        "            input_shape=(n_steps, n_features),\n",
        "            #  stateful=True,\n",
        "            return_sequences=False))\n",
        "    model.add(Dropout(0.2))\n",
        "    # model.add(LSTM(units=100))\n",
        "    # model.add(Dropout(0.2))\n",
        "    # model.add(Dense(units=1))\n",
        "    model.add(Activation('softmax'))\n",
        "\n",
        "    model.compile(optimizer='adam', loss='mse')\n",
        "\n",
        "    model.fit(X,\n",
        "              y,\n",
        "              batch_size=100,\n",
        "              epochs=10,\n",
        "              verbose=1,\n",
        "              workers=-1,\n",
        "              use_multiprocessing=True)\n",
        "\n",
        "    # demonstrate prediction\n",
        "    x_input = listValSelected_prediction\n",
        "\n",
        "    x_input = x_input.reshape((x_input.shape[0], n_steps, n_features))\n",
        "    yhat = model.predict(x_input, verbose=1, use_multiprocessing=True)\n",
        "    org_test[\"time_LSTM\"] = yhat.flatten()[:len(listValDuration_prediction)]\n",
        "    print(\n",
        "        mean_absolute_error(listValDuration_prediction,\n",
        "                            yhat.flatten()[:len(listValDuration_prediction)]))"
      ]
    },
    {
      "cell_type": "markdown",
      "metadata": {
        "id": "G8VnfD11COk3"
      },
      "source": [
        "# Neural Network"
      ]
    },
    {
      "cell_type": "code",
      "execution_count": null,
      "metadata": {
        "id": "4mAQfBJXA5e4"
      },
      "outputs": [],
      "source": [
        "def normalize(df_name, col_name):\n",
        "    col_as_array = df_name[col_name].to_numpy()\n",
        "    col_as_array = np.where(col_as_array == 0, 0.01, col_as_array)\n",
        "    col_as_array_norm = np.log10(col_as_array)\n",
        "    mean = col_as_array_norm.mean()\n",
        "    stdev = col_as_array_norm.std()\n",
        "    epsilon = 0.01\n",
        "    return (col_as_array_norm - mean) / (stdev + epsilon)"
      ]
    },
    {
      "cell_type": "code",
      "execution_count": null,
      "metadata": {
        "id": "gjaBr85RBK9u"
      },
      "outputs": [],
      "source": [
        "def prepfeatures(df_name):\n",
        "    event = df_name['enc_event'].to_numpy()\n",
        "    event = event.reshape(-1,1)\n",
        "    \n",
        "    duration = normalize(df_name,'duration')\n",
        "    startTime = normalize(df_name,'UNIX_starttime')\n",
        "    weekday = df_name['weekday'].to_numpy()\n",
        "    \n",
        "    prev_event = df_name['prev_event'].to_numpy()\n",
        "    prev_event = prev_event.reshape(-1,1)\n",
        "    prev_event = ordinal_encoder.fit_transform(prev_event)\n",
        "    \n",
        "    features = []\n",
        "    for i in range(len(event)):\n",
        "        current = event[i]\n",
        "        current = np.append(current,duration[i])\n",
        "        current = np.append(current,startTime[i])\n",
        "        current = np.append(current,prev_event[i])\n",
        "        current = np.append(current,weekday[i])\n",
        "        features.append(current)\n",
        "        \n",
        "    return np.array(features)"
      ]
    },
    {
      "cell_type": "code",
      "execution_count": null,
      "metadata": {
        "id": "OtJzg5ZPBNhL"
      },
      "outputs": [],
      "source": [
        "def preplabels(df_name):\n",
        "    labels = df_name['next_event'].to_numpy()\n",
        "    labels = label_encoder.fit_transform(labels)\n",
        "    labels = labels.reshape(-1, 1)\n",
        "    \n",
        "    return np.array(labels)"
      ]
    },
    {
      "cell_type": "code",
      "execution_count": null,
      "metadata": {
        "id": "On8mJnByBPbR"
      },
      "outputs": [],
      "source": [
        "features = prepfeatures(train)\n",
        "labels = preplabels(train)"
      ]
    },
    {
      "cell_type": "code",
      "execution_count": null,
      "metadata": {
        "id": "szrad1aBBRNR"
      },
      "outputs": [],
      "source": [
        "model = keras.Sequential([\n",
        "    keras.layers.Flatten(input_shape=(5,)),\n",
        "    keras.layers.Dense(10, activation='softplus'),\n",
        "    keras.layers.Dense(15, activation='softplus'),\n",
        "    keras.layers.Dense(20, activation='softplus'),\n",
        "    keras.layers.Dropout(1/20),\n",
        "    keras.layers.Dense(25, activation='softplus'),\n",
        "    keras.layers.Dense(30, activation='softplus'),\n",
        "    keras.layers.Dropout(1/30),\n",
        "    keras.layers.Dense(35, activation='softplus'),\n",
        "    keras.layers.Dense(42, activation='softplus')\n",
        "])\n",
        "\n",
        "model.compile(optimizer='Adam',loss='sparse_categorical_crossentropy',metrics=['accuracy'])"
      ]
    },
    {
      "cell_type": "code",
      "execution_count": null,
      "metadata": {
        "id": "NCwPArxCBTj1"
      },
      "outputs": [],
      "source": [
        "model.fit(features,labels,epochs=5,verbose=1)"
      ]
    },
    {
      "cell_type": "code",
      "execution_count": null,
      "metadata": {
        "id": "xgYm7vyHBWYL"
      },
      "outputs": [],
      "source": [
        "features_test = prepfeatures(test)\n",
        "labels_test = preplabels(test)"
      ]
    },
    {
      "cell_type": "code",
      "execution_count": null,
      "metadata": {
        "id": "G02fgUc3BjNV"
      },
      "outputs": [],
      "source": [
        "test['neuralnet_event'] = model.predict(features_test)"
      ]
    },
    {
      "cell_type": "markdown",
      "metadata": {
        "id": "bMwKREQNFNMU"
      },
      "source": [
        "# Regression"
      ]
    },
    {
      "cell_type": "code",
      "execution_count": null,
      "metadata": {
        "id": "ujVonZkbFUFB"
      },
      "outputs": [],
      "source": [
        "def prepfeatures_OLS(df_name):\n",
        "    startTime = pd.to_datetime(df_name['startTime'])\n",
        "    \n",
        "    for i in range(len(startTime)):\n",
        "        startTime[i] = startTime[i].timestamp()\n",
        "        \n",
        "    startTime = np.array(startTime).reshape(-1,1)\n",
        "    \n",
        "    event = df_name['event'].to_numpy()\n",
        "    event = event.reshape(-1,1)\n",
        "    event = ordinal_encoder.fit_transform(event)\n",
        "    \n",
        "    #payment_actual0 = normalize(df_name,'payment_actual0')\n",
        "    #penalty_amount0 = normalize(df_name,'penalty_amount0')\n",
        "    #number_parcels = normalize(df_name,'number_parcels')\n",
        "    #area = normalize(df_name,'area')\n",
        "    payment_actual0 = df_name['payment_actual0'].to_numpy()\n",
        "    penalty_amount0 = df_name['penalty_amount0'].to_numpy()\n",
        "    number_parcels = df_name['number_parcels'].to_numpy()\n",
        "    area = df_name['area'].to_numpy()\n",
        "    \n",
        "    X = []\n",
        "    for i in range(len(event)):\n",
        "        current = startTime[i]\n",
        "        current = np.append(current, event[i])\n",
        "        current = np.append(current, payment_actual0[i])\n",
        "        current = np.append(current, penalty_amount0[i])\n",
        "        current = np.append(current, number_parcels[i])\n",
        "        current = np.append(current, area[i])\n",
        "        X.append(current)\n",
        "        \n",
        "    return np.array(X, dtype=float)"
      ]
    },
    {
      "cell_type": "code",
      "execution_count": null,
      "metadata": {
        "id": "Y_VXHw5DFaAI"
      },
      "outputs": [],
      "source": [
        "def preplabels_OLS(df_name):\n",
        "    duration = df_name['duration'].to_numpy()\n",
        "    return np.array(duration, dtype=float)"
      ]
    },
    {
      "cell_type": "code",
      "execution_count": null,
      "metadata": {
        "id": "M0Qh176sFcMT"
      },
      "outputs": [],
      "source": [
        "X = prepfeatures_OLS(train)\n",
        "y = preplabels_OLS(train)\n",
        "\n",
        "huber = HuberRegressor().fit(X, y)\n",
        "\n",
        "X_test = prepfeatures_OLS(test)\n",
        "\n",
        "test['regression_duration'] = huber.predict(X_test)\n",
        "test['error'] = np.absolute(test['duration'] - test['regression_duration'])\n",
        "test['error'].mean()"
      ]
    }
  ],
  "metadata": {
    "colab": {
      "collapsed_sections": [],
      "name": "Sprint3",
      "provenance": []
    },
    "kernelspec": {
      "display_name": "Python 3 (ipykernel)",
      "language": "python",
      "name": "python3"
    },
    "language_info": {
      "codemirror_mode": {
        "name": "ipython",
        "version": 3
      },
      "file_extension": ".py",
      "mimetype": "text/x-python",
      "name": "python",
      "nbconvert_exporter": "python",
      "pygments_lexer": "ipython3",
      "version": "3.10.0"
    }
  },
  "nbformat": 4,
  "nbformat_minor": 0
}
